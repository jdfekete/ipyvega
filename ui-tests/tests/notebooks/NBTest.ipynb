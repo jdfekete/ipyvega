{
 "cells": [
  {
   "cell_type": "code",
   "execution_count": 1,
   "id": "74d01c24",
   "metadata": {},
   "outputs": [
    {
     "data": {
      "application/vnd.jupyter.widget-view+json": {
       "model_id": "d6f1de6e30014bbb8fb1b53d022e8610",
       "version_major": 2,
       "version_minor": 0
      },
      "text/plain": [
       "VegaWidget()"
      ]
     },
     "metadata": {},
     "output_type": "display_data"
    }
   ],
   "source": [
    "spec_no_data = {\n",
    "  \"$schema\": \"https://vega.github.io/schema/vega-lite/v5.json\",\n",
    "  \"data\": {\"name\": \"data\"},\n",
    "  \"mark\": \"bar\",\n",
    "  \"encoding\": {\n",
    "    \"x\": {\"aggregate\": \"sum\", \"field\": \"yield\"},\n",
    "    \"y\": {\"field\": \"variety\"},\n",
    "    \"color\": {\"field\": \"site\"}\n",
    "  }\n",
    "}\n",
    "from vega.widget import VegaWidget\n",
    "import requests\n",
    "import json\n",
    "import warnings\n",
    "warnings.filterwarnings('ignore')\n",
    "req = requests.get(\"https://raw.githubusercontent.com/vega/vega/master/docs/data/barley.json\")\n",
    "values = json.loads(req.text)\n",
    "#data\n",
    "widget = VegaWidget(spec=spec_no_data)\n",
    "display(widget)\n",
    "widget.update('data', insert=values)"
   ]
  },
  {
   "cell_type": "code",
   "execution_count": 2,
   "id": "aeacea34",
   "metadata": {},
   "outputs": [
    {
     "data": {
      "application/vnd.jupyter.widget-view+json": {
       "model_id": "582c5303b14e4e51aa471e792be47874",
       "version_major": 2,
       "version_minor": 0
      },
      "text/plain": [
       "VegaWidget()"
      ]
     },
     "metadata": {},
     "output_type": "display_data"
    }
   ],
   "source": [
    "import pandas as pd\n",
    "df = pd.read_json(\"https://raw.githubusercontent.com/vega/vega/master/docs/data/barley.json\")\n",
    "widget = VegaWidget(spec=spec_no_data)\n",
    "display(widget)\n",
    "widget.update(\"data\", insert=df)"
   ]
  },
  {
   "cell_type": "code",
   "execution_count": 3,
   "id": "a8f182bb",
   "metadata": {},
   "outputs": [
    {
     "data": {
      "application/vnd.jupyter.widget-view+json": {
       "model_id": "0be059adbd624ccf877adff4c849297c",
       "version_major": 2,
       "version_minor": 0
      },
      "text/plain": [
       "VegaWidget()"
      ]
     },
     "metadata": {},
     "output_type": "display_data"
    }
   ],
   "source": [
    "widget = VegaWidget(spec=spec_no_data)\n",
    "widget.compression = 'zlib'\n",
    "display(widget)\n",
    "widget.update('data', insert=df)"
   ]
  },
  {
   "cell_type": "code",
   "execution_count": 4,
   "id": "76cee3cd",
   "metadata": {},
   "outputs": [
    {
     "data": {
      "application/vnd.jupyter.widget-view+json": {
       "model_id": "f1c294859926417cb95d88d37121c13f",
       "version_major": 2,
       "version_minor": 0
      },
      "text/plain": [
       "VegaWidget()"
      ]
     },
     "metadata": {},
     "output_type": "display_data"
    }
   ],
   "source": [
    "from ipytablewidgets import LZ4Compressor\n",
    "widget = VegaWidget(spec=spec_no_data)\n",
    "widget.compression = LZ4Compressor(2)\n",
    "display(widget)\n",
    "widget.update('data', insert=df)"
   ]
  },
  {
   "cell_type": "code",
   "execution_count": 5,
   "id": "0784772e",
   "metadata": {},
   "outputs": [
    {
     "data": {
      "application/vnd.jupyter.widget-view+json": {
       "model_id": "78539d70eb0843e1ae7aa24dfcb02d20",
       "version_major": 2,
       "version_minor": 0
      },
      "text/plain": [
       "VegaWidget()"
      ]
     },
     "metadata": {},
     "output_type": "display_data"
    }
   ],
   "source": [
    "import numpy as np\n",
    "import asyncio as aio\n",
    "nbins = 50\n",
    "spec_no_data = {\n",
    "    '$schema': 'https://vega.github.io/schema/vega-lite/v4.8.1.json',\n",
    "     'config': {'view': {'continuousHeight': 300, 'continuousWidth': 400}},\n",
    "     'data': {'name': 'data'},\n",
    "     'encoding': {\n",
    "                  'x': {'field': 'x', 'type': 'ordinal'},\n",
    "                  'y': {'field': 'y', 'type': 'quantitative'}\n",
    "             },\n",
    "     'mark': 'bar'}\n",
    "spec_with_data = spec_no_data.copy()\n",
    "nsamples = 100_000\n",
    "steps = 1\n",
    "np.random.seed(42)\n",
    "rdata = np.random.normal(loc=0, scale=0.1, size=nsamples)\n",
    "widget = VegaWidget(spec=spec_no_data)\n",
    "display(widget)\n",
    "async def progressive_loop(widget, nbins=50):\n",
    "    hist = np.zeros(nbins)\n",
    "    for sl in np.split(rdata, steps):\n",
    "        await aio.sleep(0.1)\n",
    "        h, _ = np.histogram(sl, bins=nbins, range=(-1.0,1.0))\n",
    "        hist += h\n",
    "        source = pd.DataFrame({\n",
    "            'x': range(nbins),\n",
    "            'y': hist,\n",
    "        }, dtype='float32')\n",
    "        widget._displayed = True\n",
    "        widget.update('data', insert=source, remove=\"true\")\n",
    "\n",
    "await progressive_loop(widget)"
   ]
  },
  {
   "cell_type": "code",
   "execution_count": 6,
   "id": "74da6408",
   "metadata": {},
   "outputs": [
    {
     "data": {
      "application/vnd.jupyter.widget-view+json": {
       "model_id": "581dae2246154aff9be48fabf6e58be7",
       "version_major": 2,
       "version_minor": 0
      },
      "text/plain": [
       "VegaWidget()"
      ]
     },
     "metadata": {},
     "output_type": "display_data"
    }
   ],
   "source": [
    "from ipytablewidgets import LZ4Compressor\n",
    "import time\n",
    "nbins = 256\n",
    "spec_no_data = {'$schema': 'https://vega.github.io/schema/vega-lite/v4.8.1.json',\n",
    " \"width\": 500,\n",
    " \"height\": 400,\n",
    " 'data': {'name': 'data'},\n",
    " 'encoding': {'color': {'field': 'z', \n",
    "                        'type': 'quantitative',\n",
    "                        # \"scale\": {\n",
    "                        # \"domain\": [0,1]  # Remove if domain changes\n",
    "                        # }\n",
    "                        },\n",
    "  'x': {'field': 'x', 'type': 'ordinal'},\n",
    "  'y': {'field': 'y', 'type': 'ordinal'}},\n",
    " 'mark': 'rect',\n",
    " \"config\": {\n",
    "    \"axis\": {\n",
    "      \"disable\": True  # Change to False to see the ticks\n",
    "    }\n",
    "  }}\n",
    "widget = VegaWidget(spec=spec_no_data)\n",
    "widget.compression = LZ4Compressor(2)\n",
    "steps = 1\n",
    "display(widget)\n",
    "nsamples=100_000\n",
    "means = [0.1, 0.3]\n",
    "cov = [[0.01, 0], [0, 0.09]]\n",
    "rdata = np.random.multivariate_normal(means, cov, size=(nsamples))\n",
    "async def progressive_loop(widget, nbins=nbins):\n",
    "    hist = np.zeros((nbins,nbins), dtype='uint32')\n",
    "    times = []\n",
    "    for sl in np.split(rdata, steps):\n",
    "        await aio.sleep(0)\n",
    "        h, *_ = np.histogram2d(sl[:,0],sl[:,1], bins=nbins, range=((-1.0,1.0),(-1.0,1.0)))\n",
    "        hist += h.astype('uint32')\n",
    "        widget._displayed = True\n",
    "        value = hist\n",
    "        widget._displayed = True\n",
    "        start = time.time()\n",
    "        widget.update('data', insert=value, remove=\"true\")  \n",
    "\n",
    "await progressive_loop(widget, nbins)"
   ]
  }
 ],
 "metadata": {
  "kernelspec": {
   "display_name": "Python 3 (ipykernel)",
   "language": "python",
   "name": "python3"
  },
  "language_info": {
   "codemirror_mode": {
    "name": "ipython",
    "version": 3
   },
   "file_extension": ".py",
   "mimetype": "text/x-python",
   "name": "python",
   "nbconvert_exporter": "python",
   "pygments_lexer": "ipython3",
   "version": "3.9.16"
  },
  "widgets": {
   "application/vnd.jupyter.widget-state+json": {
    "state": {},
    "version_major": 2,
    "version_minor": 0
   }
  }
 },
 "nbformat": 4,
 "nbformat_minor": 5
}
