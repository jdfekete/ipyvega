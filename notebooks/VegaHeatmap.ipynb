{
 "cells": [
  {
   "cell_type": "markdown",
   "id": "f0b9b941",
   "metadata": {},
   "source": [
    "### Histogram 1D"
   ]
  },
  {
   "cell_type": "code",
   "execution_count": 1,
   "id": "232581d7",
   "metadata": {},
   "outputs": [
    {
     "data": {
      "application/vnd.jupyter.widget-view+json": {
       "model_id": "d5f46eaf56694d01904a9598180b45ef",
       "version_major": 2,
       "version_minor": 0
      },
      "text/plain": [
       "VBox(children=(VegaWidget(), IntProgress(value=0, description='progress')))"
      ]
     },
     "metadata": {},
     "output_type": "display_data"
    }
   ],
   "source": [
    "import numpy as np\n",
    "import time\n",
    "import asyncio as aio\n",
    "import pandas as pd\n",
    "import ipywidgets as widgets\n",
    "from vega.widget import VegaWidget\n",
    "nbins = 50\n",
    "spec_no_data = {\n",
    "    '$schema': 'https://vega.github.io/schema/vega-lite/v4.8.1.json',\n",
    "     'config': {'view': {'continuousHeight': 300, 'continuousWidth': 400}},\n",
    "     'data': {'name': 'data'},\n",
    "     'encoding': {\n",
    "                  'x': {'field': 'x', 'type': 'ordinal'},\n",
    "                  'y': {'field': 'y', 'type': 'quantitative'}\n",
    "             },\n",
    "     'mark': 'bar'}\n",
    "spec_with_data = spec_no_data.copy()\n",
    "nsamples = 100_000\n",
    "steps = 100\n",
    "rdata = np.random.normal(loc=0, scale=0.1, size=nsamples)\n",
    "widget = VegaWidget(spec=spec_no_data)\n",
    "progress = widgets.IntProgress(value=0, min=0, max=steps, description='progress', orientation='horizontal')\n",
    "display(widgets.VBox([widget, progress]))\n",
    "async def progressive_loop(widget, nbins=50):\n",
    "    hist = np.zeros(nbins)\n",
    "    step = 0\n",
    "    for sl in np.split(rdata, steps):\n",
    "        progress.value = step\n",
    "        step += 1\n",
    "        await aio.sleep(0.1)\n",
    "        h, _ = np.histogram(sl, bins=nbins, range=(-1.0,1.0))\n",
    "        hist += h\n",
    "        source = pd.DataFrame({\n",
    "            'x': range(nbins),\n",
    "            'y': hist,\n",
    "        }, dtype='float32')\n",
    "        #  widget.update('data', remove='datum.x>=0')\n",
    "        #print(\"displayed\", widget._displayed)\n",
    "        widget._displayed = True\n",
    "        widget.update('data', insert=source, remove=\"true\")\n",
    "\n",
    "await progressive_loop(widget)"
   ]
  },
  {
   "cell_type": "markdown",
   "id": "cfa45af3",
   "metadata": {},
   "source": [
    "### Histogram 2D"
   ]
  },
  {
   "cell_type": "code",
   "execution_count": 2,
   "id": "0c746bae",
   "metadata": {},
   "outputs": [
    {
     "data": {
      "application/vnd.jupyter.widget-view+json": {
       "model_id": "fe2697080b1b41e8a0495c7a87874ee6",
       "version_major": 2,
       "version_minor": 0
      },
      "text/plain": [
       "VBox(children=(VegaWidget(), IntProgress(value=0, description='progress'), Text(value='', description='Mean ti…"
      ]
     },
     "metadata": {},
     "output_type": "display_data"
    }
   ],
   "source": [
    "import time\n",
    "import numpy as np\n",
    "import asyncio as aio\n",
    "import pandas as pd\n",
    "from vega.widget import VegaWidget\n",
    "from ipytablewidgets import LZ4Compressor\n",
    "import ipywidgets as widgets\n",
    "nbins = 256\n",
    "spec_no_data = {'$schema': 'https://vega.github.io/schema/vega-lite/v4.8.1.json',\n",
    " \"width\": 500,\n",
    " \"height\": 400,\n",
    " 'data': {'name': 'data'},\n",
    " 'encoding': {'color': {'field': 'z', \n",
    "                        'type': 'quantitative',\n",
    "                        # \"scale\": {\n",
    "                        # \"domain\": [0,1]  # Remove if domain changes\n",
    "                        # }\n",
    "                        },\n",
    "  'x': {'field': 'x', 'type': 'ordinal'},\n",
    "  'y': {'field': 'y', 'type': 'ordinal'}},\n",
    " 'mark': 'rect',\n",
    " \"config\": {\n",
    "    \"axis\": {\n",
    "      \"disable\": True  # Change to False to see the ticks\n",
    "    }\n",
    "  }}\n",
    "widget = VegaWidget(spec=spec_no_data)\n",
    "widget.compression = LZ4Compressor(2)\n",
    "steps = 100\n",
    "progress = widgets.IntProgress(value=0, min=0, max=steps, description='progress', orientation='horizontal')\n",
    "mean = widgets.Text(value=\"\", description='Mean time', disables=True)\n",
    "std = widgets.Text(value=\"\",  description='Std time  ', disables=True)\n",
    "display(widgets.VBox([widget, progress, mean, std]))\n",
    "nsamples=100_000\n",
    "means = [0.1, 0.3]\n",
    "cov = [[0.01, 0], [0, 0.09]]\n",
    "rdata = np.random.multivariate_normal(means, cov, size=(nsamples))\n",
    "async def progressive_loop(widget, nbins=nbins):\n",
    "    hist = np.zeros((nbins,nbins), dtype='uint32')\n",
    "    step = 0\n",
    "    times = []\n",
    "    for sl in np.split(rdata, steps):\n",
    "        progress.value = step\n",
    "        step += 1\n",
    "        await aio.sleep(0)\n",
    "        h, *_ = np.histogram2d(sl[:,0],sl[:,1], bins=nbins, range=((-1.0,1.0),(-1.0,1.0)))\n",
    "        hist += h.astype('uint32')\n",
    "        #print(hist.shape)\n",
    "        widget._displayed = True\n",
    "        # max = np.max(hist)\n",
    "        # value = hist/max\n",
    "        value = hist\n",
    "        widget._displayed = True\n",
    "        start = time.time()\n",
    "        widget.update('data', insert=value, remove=\"true\")\n",
    "        times.append(time.time() - start)\n",
    "        mean.value = f\"{np.mean(times)*1000:.3f}ms\"\n",
    "        std.value = f\"{np.std(times)*1000:.3f}ms\"\n",
    "        \n",
    "await progressive_loop(widget, nbins)"
   ]
  }
 ],
 "metadata": {
  "kernelspec": {
   "display_name": "Python 3",
   "language": "python",
   "name": "python3"
  },
  "language_info": {
   "codemirror_mode": {
    "name": "ipython",
    "version": 3
   },
   "file_extension": ".py",
   "mimetype": "text/x-python",
   "name": "python",
   "nbconvert_exporter": "python",
   "pygments_lexer": "ipython3",
   "version": "3.9.5"
  }
 },
 "nbformat": 4,
 "nbformat_minor": 5
}
