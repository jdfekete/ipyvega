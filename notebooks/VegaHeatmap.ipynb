{
 "cells": [
  {
   "cell_type": "markdown",
   "id": "viral-longitude",
   "metadata": {},
   "source": [
    "### Histogram 1D"
   ]
  },
  {
   "cell_type": "code",
   "execution_count": null,
   "id": "downtown-toronto",
   "metadata": {},
   "outputs": [],
   "source": [
    "import numpy as np\n",
    "import time\n",
    "import asyncio as aio\n",
    "import pandas as pd\n",
    "from vega.widget import VegaWidget\n",
    "nbins = 50\n",
    "spec_no_data = {\n",
    "    '$schema': 'https://vega.github.io/schema/vega-lite/v4.8.1.json',\n",
    "     'config': {'view': {'continuousHeight': 300, 'continuousWidth': 400}},\n",
    "     'data': {'name': 'data'},\n",
    "     'encoding': {\n",
    "                  'x': {'field': 'x', 'type': 'ordinal'},\n",
    "                  'y': {'field': 'y', 'type': 'quantitative'}\n",
    "             },\n",
    "     'mark': 'bar'}\n",
    "spec_with_data = spec_no_data.copy()\n",
    "nsamples = 100_000\n",
    "steps = 1_000\n",
    "rdata = np.random.normal(loc=0, scale=0.1, size=nsamples)\n",
    "widget = VegaWidget(spec=spec_no_data)\n",
    "display(widget)\n",
    "async def progressive_loop(widget, nbins=50):\n",
    "    hist = np.zeros(nbins)\n",
    "    for sl in np.split(rdata, steps):\n",
    "        await aio.sleep(0.1)\n",
    "        h, _ = np.histogram(sl, bins=nbins, range=(-1.0,1.0))\n",
    "        hist += h\n",
    "        source = pd.DataFrame({\n",
    "            'x': range(nbins),\n",
    "            'y': hist,\n",
    "        }, dtype='float32')\n",
    "        #  widget.update('data', remove='datum.x>=0')\n",
    "        #print(\"displayed\", widget._displayed)\n",
    "        widget._displayed = True\n",
    "        widget.update_dataframe(source, remove=\"true\")\n",
    "\n",
    "await progressive_loop(widget)"
   ]
  },
  {
   "cell_type": "markdown",
   "id": "f52d8ed8",
   "metadata": {},
   "source": [
    "### Histogram 2D"
   ]
  },
  {
   "cell_type": "code",
   "execution_count": null,
   "id": "393a3fc4",
   "metadata": {
    "scrolled": true
   },
   "outputs": [],
   "source": [
    "import numpy as np\n",
    "import asyncio as aio\n",
    "import pandas as pd\n",
    "from vega.widget import VegaWidget\n",
    "nbins = 128\n",
    "spec_no_data = {'$schema': 'https://vega.github.io/schema/vega-lite/v4.8.1.json',\n",
    " 'config': {'view': {'continuousHeight': 300, 'continuousWidth': 400}},\n",
    " 'data': {'name': 'data'},\n",
    " 'encoding': {'color': {'field': 'z', 'type': 'quantitative'},\n",
    "  'x': {'field': 'x', 'type': 'ordinal', \"bin\": {\"maxbins\":60}},\n",
    "  'y': {'field': 'y', 'type': 'ordinal', \"bin\": {\"maxbins\":60}}},\n",
    " 'mark': 'rect'}\n",
    "widget = VegaWidget(spec=spec_no_data)\n",
    "display(widget)\n",
    "nsamples=100_1000\n",
    "steps = 1000\n",
    "mean = [0.1, 0.3]\n",
    "cov = [[0.01, 0], [0, 0.09]]\n",
    "rdata = np.random.multivariate_normal(mean, cov, size=(nsamples))\n",
    "async def progressive_loop(widget, nbins=128):\n",
    "    hist = np.zeros((nbins,nbins), dtype='float32')\n",
    "    for sl in np.split(rdata, steps):\n",
    "        await aio.sleep(0.1)\n",
    "        h, *_ = np.histogram2d(sl[0],sl[1], bins=nbins, range=((-1.0,1.0),(-1.0,1.0)))\n",
    "        hist += h\n",
    "        #print(hist.shape)\n",
    "        widget._displayed = True\n",
    "        widget.update_histogram2d(hist, ['x', 'y', 'z'], remove=\"true\", chunksize=1000)\n",
    "\n",
    "await progressive_loop(widget)"
   ]
  }
 ],
 "metadata": {
  "kernelspec": {
   "display_name": "Python 3",
   "language": "python",
   "name": "python3"
  },
  "language_info": {
   "codemirror_mode": {
    "name": "ipython",
    "version": 3
   },
   "file_extension": ".py",
   "mimetype": "text/x-python",
   "name": "python",
   "nbconvert_exporter": "python",
   "pygments_lexer": "ipython3",
   "version": "3.9.4"
  }
 },
 "nbformat": 4,
 "nbformat_minor": 5
}
