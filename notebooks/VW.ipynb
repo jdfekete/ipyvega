{
 "cells": [
  {
   "cell_type": "code",
   "execution_count": 1,
   "metadata": {},
   "outputs": [
    {
     "data": {
      "application/vnd.jupyter.widget-view+json": {
       "model_id": "81accaad9b0f4ec49902d0dfef414eb7",
       "version_major": 2,
       "version_minor": 0
      },
      "text/plain": [
       "VegaWidget()"
      ]
     },
     "metadata": {},
     "output_type": "display_data"
    }
   ],
   "source": [
    "import random\n",
    "import time\n",
    "random.seed(42)\n",
    "spec_no_data = {\n",
    "    \"$schema\": \"https://vega.github.io/schema/vega-lite/v4.json\",\n",
    "    \"mark\": \"point\",\n",
    "    \"data\": {\n",
    "        \"name\": \"data\"\n",
    "    },\n",
    "    \"encoding\": {\n",
    "        \"x\": {\"type\": \"quantitative\", \"field\": \"x\"},\n",
    "        \"y\": {\"type\": \"quantitative\", \"field\": \"y\"},\n",
    "    }\n",
    "}\n",
    "\n",
    "spec_with_data = spec_no_data.copy()\n",
    "spec_with_data[\"data\"] = {\n",
    "    \"name\": \"data\",\n",
    "    \"values\": [\n",
    "        {\"x\": random.gauss(0, 1), \"y\": random.gauss(0, 1), \"t\": t}\n",
    "        for t in range(5)\n",
    "    ],\n",
    "}\n",
    "from vega.widget import VegaWidget\n",
    "\n",
    "VegaWidget(spec=spec_with_data)"
   ]
  }
 ],
 "metadata": {
  "hide_input": false,
  "kernelspec": {
   "display_name": "Python 3 (ipykernel)",
   "language": "python",
   "name": "python3"
  },
  "language_info": {
   "codemirror_mode": {
    "name": "ipython",
    "version": 3
   },
   "file_extension": ".py",
   "mimetype": "text/x-python",
   "name": "python",
   "nbconvert_exporter": "python",
   "pygments_lexer": "ipython3",
   "version": "3.9.13"
  },
  "latex_envs": {
   "LaTeX_envs_menu_present": true,
   "autoclose": false,
   "autocomplete": true,
   "bibliofile": "biblio.bib",
   "cite_by": "apalike",
   "current_citInitial": 1,
   "eqLabelWithNumbers": true,
   "eqNumInitial": 1,
   "hotkeys": {
    "equation": "Ctrl-E",
    "itemize": "Ctrl-I"
   },
   "labels_anchors": false,
   "latex_user_defs": false,
   "report_style_numbering": false,
   "user_envs_cfg": false
  },
  "toc": {
   "base_numbering": 1,
   "nav_menu": {},
   "number_sections": true,
   "sideBar": true,
   "skip_h1_title": false,
   "title_cell": "Table of Contents",
   "title_sidebar": "Contents",
   "toc_cell": true,
   "toc_position": {},
   "toc_section_display": true,
   "toc_window_display": false
  },
  "widgets": {
   "application/vnd.jupyter.widget-state+json": {
    "state": {
     "110e29a5d24d4668a6e7332fbd02a3d8": {
      "model_module": "@jupyter-widgets/controls",
      "model_module_version": "1.5.0",
      "model_name": "ButtonModel",
      "state": {
       "description": "Add new data point",
       "layout": "IPY_MODEL_6528b5b0fb2a4664be973dfafefcac95",
       "style": "IPY_MODEL_b77f19a2ab7f43808ef2384043455ca4"
      }
     },
     "25a0b3e846094e47ad5a92bca1310718": {
      "model_module": "@jupyter-widgets/base",
      "model_module_version": "1.2.0",
      "model_name": "LayoutModel",
      "state": {}
     },
     "31f27aa1892640c29e351fddbfa6ba5b": {
      "model_module": "@jupyter-widgets/controls",
      "model_module_version": "1.5.0",
      "model_name": "VBoxModel",
      "state": {
       "children": [
        "IPY_MODEL_e347415012c640109b7e923179dda932",
        "IPY_MODEL_7950835d2d9941b191414f059cd4b01f",
        "IPY_MODEL_110e29a5d24d4668a6e7332fbd02a3d8"
       ],
       "layout": "IPY_MODEL_47e26debba774c78b1ed870b2a6ed5ce"
      }
     },
     "43e6fafb616948f1bd2f8cc9c5501f84": {
      "model_module": "@jupyter-widgets/base",
      "model_module_version": "1.2.0",
      "model_name": "LayoutModel",
      "state": {}
     },
     "47e26debba774c78b1ed870b2a6ed5ce": {
      "model_module": "@jupyter-widgets/base",
      "model_module_version": "1.2.0",
      "model_name": "LayoutModel",
      "state": {}
     },
     "49dde48b1a894c6682d3b8c1adb00258": {
      "model_module": "@jupyter-widgets/base",
      "model_module_version": "1.2.0",
      "model_name": "LayoutModel",
      "state": {}
     },
     "6528b5b0fb2a4664be973dfafefcac95": {
      "model_module": "@jupyter-widgets/base",
      "model_module_version": "1.2.0",
      "model_name": "LayoutModel",
      "state": {}
     },
     "7950835d2d9941b191414f059cd4b01f": {
      "model_module": "@jupyter-widgets/base",
      "model_module_version": "1.2.0",
      "model_name": "DOMWidgetModel",
      "state": {
       "_model_name": "DOMWidgetModel",
       "_spec_source": "{\"$schema\": \"https://vega.github.io/schema/vega-lite/v3.json\", \"mark\": \"point\", \"data\": {\"name\": \"data\", \"values\": [{\"x\": -0.08464576847388305, \"y\": -2.292101726714774, \"t\": 0}, {\"x\": 0.21535122626875394, \"y\": -1.3219649666747073, \"t\": 1}, {\"x\": -0.329521137311764, \"y\": -0.27624633585615743, \"t\": 2}, {\"x\": 0.0094549488754799, \"y\": -0.04490340911971162, \"t\": 3}, {\"x\": 1.031494161239078, \"y\": -1.0452928358284574, \"t\": 4}]}, \"encoding\": {\"x\": {\"type\": \"quantitative\", \"field\": \"x\"}, \"y\": {\"type\": \"quantitative\", \"field\": \"y\"}}}",
       "_view_module": "nbextensions/jupyter-vega/index",
       "_view_module_version": "0.1.0",
       "_view_name": "VegaWidget",
       "layout": "IPY_MODEL_43e6fafb616948f1bd2f8cc9c5501f84"
      }
     },
     "81accaad9b0f4ec49902d0dfef414eb7": {
      "model_module": "jupyter-vega",
      "model_module_version": "^3.6.0",
      "model_name": "VegaWidgetModel",
      "state": {
       "_df": null,
       "_model_module": "jupyter-vega",
       "_model_module_version": "^3.6.0",
       "_opt_source": "null",
       "_spec_source": "{\"$schema\": \"https://vega.github.io/schema/vega-lite/v4.json\", \"mark\": \"point\", \"data\": {\"name\": \"data\", \"values\": [{\"x\": -0.14409032957792836, \"y\": -0.1729036003315193, \"t\": 0}, {\"x\": -0.11131586156766246, \"y\": 0.7019837250988631, \"t\": 1}, {\"x\": -0.12758828378288709, \"y\": -1.4973534143409575, \"t\": 2}, {\"x\": 0.33231834406771527, \"y\": -0.2673374784971682, \"t\": 3}, {\"x\": -0.216958684145195, \"y\": 0.11588478670085507, \"t\": 4}]}, \"encoding\": {\"x\": {\"type\": \"quantitative\", \"field\": \"x\"}, \"y\": {\"type\": \"quantitative\", \"field\": \"y\"}}}",
       "_view_module": "jupyter-vega",
       "_view_module_version": "^3.6.0",
       "layout": "IPY_MODEL_49dde48b1a894c6682d3b8c1adb00258"
      }
     },
     "b77f19a2ab7f43808ef2384043455ca4": {
      "model_module": "@jupyter-widgets/controls",
      "model_module_version": "1.5.0",
      "model_name": "ButtonStyleModel",
      "state": {}
     },
     "d6c0ab2005d849dc8aca0e2201ac7abd": {
      "model_module": "@jupyter-widgets/base",
      "model_module_version": "1.2.0",
      "model_name": "DOMWidgetModel",
      "state": {
       "_model_name": "DOMWidgetModel",
       "_spec_source": "{\"$schema\": \"https://vega.github.io/schema/vega-lite/v3.json\", \"mark\": \"point\", \"data\": {\"name\": \"data\", \"values\": []}, \"encoding\": {\"x\": {\"type\": \"quantitative\", \"field\": \"x\"}, \"y\": {\"type\": \"quantitative\", \"field\": \"y\"}}}",
       "_view_module": "nbextensions/jupyter-vega/index",
       "_view_module_version": "0.1.0",
       "_view_name": "VegaWidget",
       "layout": "IPY_MODEL_25a0b3e846094e47ad5a92bca1310718"
      }
     },
     "d98c8303019946e8a1c4418dc1567dfb": {
      "model_module": "@jupyter-widgets/base",
      "model_module_version": "1.2.0",
      "model_name": "LayoutModel",
      "state": {}
     },
     "e347415012c640109b7e923179dda932": {
      "model_module": "@jupyter-widgets/controls",
      "model_module_version": "1.5.0",
      "model_name": "LabelModel",
      "state": {
       "layout": "IPY_MODEL_d98c8303019946e8a1c4418dc1567dfb",
       "style": "IPY_MODEL_f172b5db1e6a482981fa8c546b18164f",
       "value": "Vega plot embedded in another widget"
      }
     },
     "f172b5db1e6a482981fa8c546b18164f": {
      "model_module": "@jupyter-widgets/controls",
      "model_module_version": "1.5.0",
      "model_name": "DescriptionStyleModel",
      "state": {
       "description_width": ""
      }
     }
    },
    "version_major": 2,
    "version_minor": 0
   }
  }
 },
 "nbformat": 4,
 "nbformat_minor": 2
}
