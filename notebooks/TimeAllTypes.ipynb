{
 "cells": [
  {
   "cell_type": "code",
   "execution_count": 1,
   "id": "cf82a7af",
   "metadata": {},
   "outputs": [],
   "source": [
    "import time\n",
    "import numpy as np\n",
    "import pandas as pd\n",
    "import ipywidgets as widgets\n",
    "from vega.widget import VegaWidget\n",
    "\n",
    "spec_no_data = {\n",
    "  \"$schema\": \"https://vega.github.io/schema/vega-lite/v5.json\",\n",
    "  \"data\": {\"name\": \"data\"},\n",
    "  \"mark\": \"bar\",\n",
    "  \"encoding\": {\n",
    "    \"x\": {\"aggregate\": \"sum\", \"field\": \"yield\"},\n",
    "    \"y\": {\"field\": \"variety\"},\n",
    "    \"color\": {\"field\": \"site\"}\n",
    "  }\n",
    "}\n"
   ]
  },
  {
   "cell_type": "code",
   "execution_count": 2,
   "id": "16fe77ec",
   "metadata": {},
   "outputs": [],
   "source": [
    "URL = \"https://forge.scilab.org/index.php/p/rdataset/source/file/368b19abcb4292c56e4f21079f750eb76b325907/csv/lattice/barley.csv\"\n",
    "df = pd.read_csv(URL, usecols=['yield', 'variety', 'year', 'site'])\n",
    "df_list = [df.copy() for _ in range(1000)]\n",
    "big_df = pd.concat(df_list)\n",
    "big_dict = big_df.to_dict(orient='records')"
   ]
  },
  {
   "cell_type": "code",
   "execution_count": 3,
   "id": "0f8e65bd",
   "metadata": {},
   "outputs": [
    {
     "data": {
      "application/vnd.jupyter.widget-view+json": {
       "model_id": "949d948daba1424c9a377a2a647e656c",
       "version_major": 2,
       "version_minor": 0
      },
      "text/plain": [
       "VBox(children=(VegaWidget(), IntProgress(value=0, description='Progress', max=20), GridBox(children=(Label(val…"
      ]
     },
     "metadata": {},
     "output_type": "display_data"
    }
   ],
   "source": [
    "start = 0\n",
    "times = []\n",
    "callback_ = None\n",
    "steps = 20\n",
    "cases = ['vega', 'itw', 'lz4', 'zlib']\n",
    "\n",
    "progress = widgets.IntProgress(value=0, min=0, \n",
    "                                     max=steps, \n",
    "                                     description='Progress', \n",
    "                                     orientation='horizontal')              \n",
    "\n",
    "mean_d = {k: widgets.Text(value=\"\", description='', disables=True)\n",
    "          for k in cases}\n",
    "        \n",
    "std_d = {k: widgets.Text(value=\"\",  description='', disables=True)\n",
    "         for k in cases}\n",
    "\n",
    "_lab = widgets.Label\n",
    "\n",
    "items = ([_lab('Format'), _lab('Vega'), _lab('Table'), _lab('Table+lz4'), _lab('Table+zlib')] + \n",
    "         [_lab('Mean time [transf / transf+conv / total]')]+list(mean_d.values())+\n",
    "         [_lab('Std time [transf / transf+conv / total]')]+list(std_d.values()))\n",
    "\n",
    "grid = widgets.GridBox(items, layout=widgets.Layout(grid_template_columns=\"250px repeat(4, 150px)\"))\n",
    "\n",
    "mean = None\n",
    "std = None\n",
    "\n",
    "def clear_():\n",
    "    times.clear()\n",
    "    progress.value = 0\n",
    "    mean.value = ''\n",
    "    std.value = ''\n",
    "\n",
    "def set_col(k):\n",
    "    global progress, mean, std\n",
    "    #progress = progress_d[k]\n",
    "    mean = mean_d[k]\n",
    "    std = std_d[k]\n",
    "    if progress is not None:\n",
    "        clear_()\n",
    "    \n",
    "def on_value_change(change):\n",
    "    global start\n",
    "    transf, tr_conv, total = change['new']\n",
    "    times.append([transf-start, tr_conv-start, total-start])\n",
    "    progress.value = len(times)\n",
    "    if callback_ is not None and len(times)<steps:\n",
    "        callback_()\n",
    "    else:\n",
    "        times_tr = [e[0] for e in times]\n",
    "        times_tc = [e[1] for e in times]\n",
    "        times_tt = [e[2] for e in times]\n",
    "        mean_tr = np.mean(times_tr, dtype=int)\n",
    "        mean_tc = np.mean(times_tc, dtype=int)\n",
    "        mean_tt = np.mean(times_tt, dtype=int)\n",
    "        std_tr = np.std(times_tr, dtype=int)\n",
    "        std_tc = np.std(times_tc, dtype=int)\n",
    "        std_tt = np.std(times_tt, dtype=int)\n",
    "        mean.value = f\"{mean_tr} / {mean_tc} / {mean_tt} ms\"\n",
    "        std.value = f\"{std_tr} / {std_tc} / {std_tt} ms\"\n",
    "        \n",
    "widget = VegaWidget(spec=spec_no_data)\n",
    "widget.observe(on_value_change, names='rec_time')\n",
    "display(widgets.VBox([widget, progress, grid]))"
   ]
  },
  {
   "cell_type": "code",
   "execution_count": 4,
   "id": "a0828924",
   "metadata": {},
   "outputs": [
    {
     "data": {
      "text/html": [
       "<div>\n",
       "<style scoped>\n",
       "    .dataframe tbody tr th:only-of-type {\n",
       "        vertical-align: middle;\n",
       "    }\n",
       "\n",
       "    .dataframe tbody tr th {\n",
       "        vertical-align: top;\n",
       "    }\n",
       "\n",
       "    .dataframe thead th {\n",
       "        text-align: right;\n",
       "    }\n",
       "</style>\n",
       "<table border=\"1\" class=\"dataframe\">\n",
       "  <thead>\n",
       "    <tr style=\"text-align: right;\">\n",
       "      <th></th>\n",
       "      <th>yield</th>\n",
       "      <th>variety</th>\n",
       "      <th>year</th>\n",
       "      <th>site</th>\n",
       "    </tr>\n",
       "  </thead>\n",
       "  <tbody>\n",
       "    <tr>\n",
       "      <th>0</th>\n",
       "      <td>27.00000</td>\n",
       "      <td>Manchuria</td>\n",
       "      <td>1931</td>\n",
       "      <td>University Farm</td>\n",
       "    </tr>\n",
       "    <tr>\n",
       "      <th>1</th>\n",
       "      <td>48.86667</td>\n",
       "      <td>Manchuria</td>\n",
       "      <td>1931</td>\n",
       "      <td>Waseca</td>\n",
       "    </tr>\n",
       "    <tr>\n",
       "      <th>2</th>\n",
       "      <td>27.43334</td>\n",
       "      <td>Manchuria</td>\n",
       "      <td>1931</td>\n",
       "      <td>Morris</td>\n",
       "    </tr>\n",
       "    <tr>\n",
       "      <th>3</th>\n",
       "      <td>39.93333</td>\n",
       "      <td>Manchuria</td>\n",
       "      <td>1931</td>\n",
       "      <td>Crookston</td>\n",
       "    </tr>\n",
       "    <tr>\n",
       "      <th>4</th>\n",
       "      <td>32.96667</td>\n",
       "      <td>Manchuria</td>\n",
       "      <td>1931</td>\n",
       "      <td>Grand Rapids</td>\n",
       "    </tr>\n",
       "  </tbody>\n",
       "</table>\n",
       "</div>"
      ],
      "text/plain": [
       "      yield    variety  year             site\n",
       "0  27.00000  Manchuria  1931  University Farm\n",
       "1  48.86667  Manchuria  1931           Waseca\n",
       "2  27.43334  Manchuria  1931           Morris\n",
       "3  39.93333  Manchuria  1931        Crookston\n",
       "4  32.96667  Manchuria  1931     Grand Rapids"
      ]
     },
     "execution_count": 4,
     "metadata": {},
     "output_type": "execute_result"
    }
   ],
   "source": [
    "big_df.head()"
   ]
  },
  {
   "cell_type": "code",
   "execution_count": 5,
   "id": "cda7823d",
   "metadata": {},
   "outputs": [],
   "source": [
    "set_col('vega')\n",
    "def vega_fun():\n",
    "    global start\n",
    "    start = int(time.time()*1000)\n",
    "    widget.update('data', insert=big_dict, remove=\"true\")\n",
    "    time.sleep(1)\n",
    "callback_ = vega_fun\n",
    "vega_fun()"
   ]
  },
  {
   "cell_type": "code",
   "execution_count": 6,
   "id": "5312edef",
   "metadata": {},
   "outputs": [],
   "source": [
    "set_col('itw')\n",
    "widget.compression = None\n",
    "def itw_fun():\n",
    "    global start\n",
    "    start = int(time.time()*1000)\n",
    "    widget.update('data', insert=big_df, remove=\"true\")\n",
    "    time.sleep(1)\n",
    "callback_ = itw_fun\n",
    "itw_fun()"
   ]
  },
  {
   "cell_type": "code",
   "execution_count": 7,
   "id": "5cdd1ebb",
   "metadata": {},
   "outputs": [],
   "source": [
    "set_col('lz4')\n",
    "start = int(time.time()*1000)\n",
    "widget.compression = \"lz4\"\n",
    "widget.update('data', insert=big_df, remove=\"true\")"
   ]
  },
  {
   "cell_type": "code",
   "execution_count": 8,
   "id": "890aad8c",
   "metadata": {},
   "outputs": [],
   "source": [
    "set_col('zlib')\n",
    "start = int(time.time()*1000)\n",
    "widget.compression = \"zlib\"\n",
    "widget.update('data', insert=big_df, remove=\"true\")"
   ]
  }
 ],
 "metadata": {
  "kernelspec": {
   "display_name": "Python 3",
   "language": "python",
   "name": "python3"
  },
  "language_info": {
   "codemirror_mode": {
    "name": "ipython",
    "version": 3
   },
   "file_extension": ".py",
   "mimetype": "text/x-python",
   "name": "python",
   "nbconvert_exporter": "python",
   "pygments_lexer": "ipython3",
   "version": "3.9.5"
  }
 },
 "nbformat": 4,
 "nbformat_minor": 5
}
