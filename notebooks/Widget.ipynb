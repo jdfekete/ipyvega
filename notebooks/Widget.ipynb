{
 "cells": [
  {
   "cell_type": "code",
   "execution_count": 1,
   "metadata": {},
   "outputs": [],
   "source": [
    "import random\n",
    "import time\n",
    "random.seed(42)"
   ]
  },
  {
   "cell_type": "code",
   "execution_count": 2,
   "metadata": {},
   "outputs": [],
   "source": [
    "spec_no_data = {\n",
    "    \"$schema\": \"https://vega.github.io/schema/vega-lite/v4.json\",\n",
    "    \"mark\": \"point\",\n",
    "    \"data\": {\n",
    "        \"name\": \"data\"\n",
    "    },\n",
    "    \"encoding\": {\n",
    "        \"x\": {\"type\": \"quantitative\", \"field\": \"x\"},\n",
    "        \"y\": {\"type\": \"quantitative\", \"field\": \"y\"},\n",
    "    }\n",
    "}\n",
    "\n",
    "spec_with_data = spec_no_data.copy()\n",
    "spec_with_data[\"data\"] = {\n",
    "    \"name\": \"data\",\n",
    "    \"values\": [\n",
    "        {\"x\": random.gauss(0, 1), \"y\": random.gauss(0, 1), \"t\": t}\n",
    "        for t in range(5)\n",
    "    ],\n",
    "}"
   ]
  },
  {
   "cell_type": "markdown",
   "metadata": {},
   "source": [
    "# Static Vega Plot"
   ]
  },
  {
   "cell_type": "code",
   "execution_count": 3,
   "metadata": {},
   "outputs": [
    {
     "data": {
      "application/javascript": [
       "const spec = {\"$schema\": \"https://vega.github.io/schema/vega-lite/v4.json\", \"mark\": \"point\", \"data\": {\"name\": \"data\", \"values\": [{\"x\": -0.14409032957792836, \"y\": -0.1729036003315193, \"t\": 0}, {\"x\": -0.11131586156766246, \"y\": 0.7019837250988631, \"t\": 1}, {\"x\": -0.12758828378288709, \"y\": -1.4973534143409575, \"t\": 2}, {\"x\": 0.33231834406771527, \"y\": -0.2673374784971682, \"t\": 3}, {\"x\": -0.216958684145195, \"y\": 0.11588478670085507, \"t\": 4}]}, \"encoding\": {\"x\": {\"type\": \"quantitative\", \"field\": \"x\"}, \"y\": {\"type\": \"quantitative\", \"field\": \"y\"}}};\n",
       "const opt = {};\n",
       "const type = \"vega-lite\";\n",
       "const id = \"bdf87e52-49e9-4485-b5d0-f69ef7210277\";\n",
       "\n",
       "const output_area = this;\n",
       "\n",
       "require([\"jupyter-vega\"], function(vega) {\n",
       "  const target = document.createElement(\"div\");\n",
       "  target.id = id;\n",
       "  target.className = \"vega-embed\";\n",
       "\n",
       "  const style = document.createElement(\"style\");\n",
       "  style.textContent = [\n",
       "    \".vega-embed .error p {\",\n",
       "    \"  color: firebrick;\",\n",
       "    \"  font-size: 14px;\",\n",
       "    \"}\",\n",
       "  ].join(\"\\\\n\");\n",
       "\n",
       "  // element is a jQuery wrapped DOM element inside the output area\n",
       "  // see http://ipython.readthedocs.io/en/stable/api/generated/\\\n",
       "  // IPython.display.html#IPython.display.Javascript.__init__\n",
       "  element[0].appendChild(target);\n",
       "  element[0].appendChild(style);\n",
       "  vega.render(`#${id}`, spec, type, opt, output_area);\n",
       "}, function (err) {\n",
       "  if (err.requireType !== \"scripterror\") {\n",
       "    throw(err);\n",
       "  }\n",
       "});\n"
      ],
      "text/plain": [
       "<vega.vegalite.VegaLite at 0x7f4848658370>"
      ]
     },
     "execution_count": 3,
     "metadata": {
      "jupyter-vega": "#bdf87e52-49e9-4485-b5d0-f69ef7210277"
     },
     "output_type": "execute_result"
    },
    {
     "data": {
      "image/png": "[encoded data removed]"
     },
     "metadata": {
      "jupyter-vega": "#bdf87e52-49e9-4485-b5d0-f69ef7210277"
     },
     "output_type": "display_data"
    }
   ],
   "source": [
    "from vega import VegaLite\n",
    "VegaLite(spec=spec_with_data)"
   ]
  },
  {
   "cell_type": "markdown",
   "metadata": {},
   "source": [
    "# Vega Plot with dynamic updates\n",
    "\n",
    "The widget allows to update the plot after it has been displayed. To do so, the widget offers the `update` method that allows to add or remove data from the plot."
   ]
  },
  {
   "cell_type": "code",
   "execution_count": 4,
   "metadata": {},
   "outputs": [
    {
     "data": {
      "application/vnd.jupyter.widget-view+json": {
       "model_id": "dd17d59782034c94a27c91b84bd9a63d",
       "version_major": 2,
       "version_minor": 0
      },
      "text/plain": [
       "VegaWidget()"
      ]
     },
     "metadata": {},
     "output_type": "display_data"
    }
   ],
   "source": [
    "from vega.widget import VegaWidget\n",
    "\n",
    "widget = VegaWidget(spec=spec_no_data)\n",
    "\n",
    "\n",
    "values = [\n",
    "    dict(\n",
    "        x=random.gauss(0.0, 1.0),\n",
    "        y=random.gauss(0.0, 1.0),\n",
    "        t=0,\n",
    "    )\n",
    "    for _ in range(10)\n",
    "]\n",
    "display(widget)\n",
    "widget.update('data', insert=values)"
   ]
  },
  {
   "cell_type": "markdown",
   "metadata": {},
   "source": [
    "## Dynamic updates with a Pandas DataFrame"
   ]
  },
  {
   "cell_type": "code",
   "execution_count": 5,
   "metadata": {},
   "outputs": [
    {
     "data": {
      "application/vnd.jupyter.widget-view+json": {
       "model_id": "8186fe4c715f4af0b1d03003dccf992d",
       "version_major": 2,
       "version_minor": 0
      },
      "text/plain": [
       "VegaWidget()"
      ]
     },
     "metadata": {},
     "output_type": "display_data"
    }
   ],
   "source": [
    "import pandas as pd\n",
    "from vega.widget import VegaWidget\n",
    "\n",
    "widget = VegaWidget(spec=spec_no_data)\n",
    "xcol = [d['x'] for d in values]\n",
    "ycol = [d['y'] for d in values]\n",
    "df = pd.DataFrame(dict(x=xcol, y=ycol), dtype='float32')\n",
    "display(widget)\n",
    "widget.update('data', insert=df)"
   ]
  },
  {
   "cell_type": "code",
   "execution_count": 6,
   "metadata": {},
   "outputs": [],
   "source": [
    "# The spec can be updated after the widget has been displayed. However, any \n",
    "# data is inserted via update is lost and needs to be re-inserted.\n",
    "widget.spec = dict(spec_no_data, mark=\"line\")\n",
    "widget.update(\"data\", insert=values)"
   ]
  },
  {
   "cell_type": "code",
   "execution_count": 7,
   "metadata": {},
   "outputs": [],
   "source": [
    "# Similarly the options can be updated after the widget has been displayed. \n",
    "# Again, any data is inserted via update is lost and needs to be re-inserted.\n",
    "widget.opt = {\"theme\": \"dark\"}\n",
    "widget.update(\"data\", insert=values)"
   ]
  },
  {
   "cell_type": "code",
   "execution_count": 8,
   "metadata": {},
   "outputs": [
    {
     "name": "stdout",
     "output_type": "stream",
     "text": [
      "the current spec: {'$schema': 'https://vega.github.io/schema/vega-lite/v4.json', 'mark': 'line', 'data': {'name': 'data'}, 'encoding': {'x': {'type': 'quantitative', 'field': 'x'}, 'y': {'type': 'quantitative', 'field': 'y'}}}\n",
      "options: {'theme': 'dark'}\n"
     ]
    }
   ],
   "source": [
    "print(\"the current spec:\", widget.spec)\n",
    "print(\"options:\", widget.opt)"
   ]
  },
  {
   "cell_type": "markdown",
   "metadata": {},
   "source": [
    "The VegaWidget can also be embedded into larger ipywidgets layout and use interactive features, such as buttons or similar interactive elements."
   ]
  },
  {
   "cell_type": "code",
   "execution_count": 9,
   "metadata": {},
   "outputs": [],
   "source": [
    "from ipywidgets import VBox, Label, Button"
   ]
  },
  {
   "cell_type": "code",
   "execution_count": 10,
   "metadata": {},
   "outputs": [
    {
     "data": {
      "application/vnd.jupyter.widget-view+json": {
       "model_id": "cabc3b528d5c49e2a20c4740fd54c18e",
       "version_major": 2,
       "version_minor": 0
      },
      "text/plain": [
       "VBox(children=(Label(value='Vega plot embedded in another widget'), VegaWidget(), Button(description='Add new …"
      ]
     },
     "metadata": {},
     "output_type": "display_data"
    }
   ],
   "source": [
    "plot = VegaWidget(spec=spec_with_data)\n",
    "button = Button(description=\"Add new data point\")\n",
    "\n",
    "t = 5\n",
    "\n",
    "@button.on_click\n",
    "def on_click_handler(*_):\n",
    "    global t\n",
    "    \n",
    "    value = dict(\n",
    "        x=random.gauss(0.0, 1.0),\n",
    "        y=random.gauss(0.0, 1.0),\n",
    "        t=t,\n",
    "    )\n",
    "    plot.update('data', insert=[value], remove=f'datum.t <= {t - 5}')\n",
    "    t += 1\n",
    "\n",
    "VBox([Label(\"Vega plot embedded in another widget\"), plot, button])"
   ]
  },
  {
   "cell_type": "markdown",
   "metadata": {},
   "source": [
    "# Errors\n",
    "Updating a non-existent dataset raises an error"
   ]
  },
  {
   "cell_type": "code",
   "execution_count": 11,
   "metadata": {
    "scrolled": true
   },
   "outputs": [
    {
     "data": {
      "application/vnd.jupyter.widget-view+json": {
       "model_id": "819d7e336e3b4a60bc7245a90d4c2aed",
       "version_major": 2,
       "version_minor": 0
      },
      "text/plain": [
       "VegaWidget()"
      ]
     },
     "metadata": {},
     "output_type": "display_data"
    }
   ],
   "source": [
    "from vega.widget import VegaWidget\n",
    "\n",
    "widget = VegaWidget(spec=spec_no_data)\n",
    "\n",
    "\n",
    "values = [\n",
    "    dict(\n",
    "        x=random.gauss(0.0, 1.0),\n",
    "        y=random.gauss(0.0, 1.0),\n",
    "        t=0,\n",
    "    )\n",
    "    for _ in range(10)\n",
    "]\n",
    "\n",
    "display(widget)\n",
    "widget.update('non_existing', insert=values)"
   ]
  },
  {
   "cell_type": "markdown",
   "metadata": {},
   "source": [
    "# Fixing the Error\n",
    "Updating it later still works, the widget in the previous cell will be updated."
   ]
  },
  {
   "cell_type": "code",
   "execution_count": 12,
   "metadata": {},
   "outputs": [],
   "source": [
    "import pandas as pd\n",
    "df = pd.DataFrame(dict(a=[1,2], b=[3,4], x=[1.1,2.2],  y=[3.3,4.4]))\n",
    "widget.update('data', insert=df)"
   ]
  },
  {
   "cell_type": "code",
   "execution_count": 13,
   "metadata": {},
   "outputs": [],
   "source": [
    "cars = pd.read_json(\"cars.json\")\n",
    "USA = cars[cars.Origin==\"USA\"]\n",
    "Europe = cars[cars.Origin==\"Europe\"]\n",
    "Japan = cars[cars.Origin==\"Japan\"]"
   ]
  },
  {
   "cell_type": "code",
   "execution_count": 14,
   "metadata": {},
   "outputs": [
    {
     "data": {
      "application/vnd.jupyter.widget-view+json": {
       "model_id": "a5929fbde07e4997829ee75d413e056f",
       "version_major": 2,
       "version_minor": 0
      },
      "text/plain": [
       "VegaWidget()"
      ]
     },
     "metadata": {},
     "output_type": "display_data"
    }
   ],
   "source": [
    "\n",
    "spec = {\n",
    "  \"$schema\": \"https://vega.github.io/schema/vega-lite/v5.json\",\n",
    "  \"description\": \"A vertical box plot showing median and lower and upper quartiles of the distribution of body mass of penguins.\",\n",
    "  \"data\": {\"name\": \"data\"},\n",
    "  \"mark\": \"boxplot\",\n",
    "  \"encoding\": {\n",
    "    \"x\": {\"field\": \"Origin\", \"type\": \"nominal\", \"sort\": \"-y\"},\n",
    "    \"color\": {\"field\": \"Origin\", \"type\": \"nominal\", \"legend\": None},\n",
    "    \"y\": {\n",
    "      \"field\": \"Acceleration\",\n",
    "      \"type\": \"quantitative\",\n",
    "      \"scale\": {\"zero\": False}\n",
    "    }\n",
    "  }\n",
    "}\n",
    "\n",
    "widget = VegaWidget(spec=spec)\n",
    "display(widget)"
   ]
  },
  {
   "cell_type": "code",
   "execution_count": 15,
   "metadata": {},
   "outputs": [],
   "source": [
    "widget.update('data', insert=Japan)"
   ]
  },
  {
   "cell_type": "code",
   "execution_count": 16,
   "metadata": {},
   "outputs": [],
   "source": [
    "widget.update('data', insert=Europe)"
   ]
  },
  {
   "cell_type": "code",
   "execution_count": 17,
   "metadata": {},
   "outputs": [],
   "source": [
    "widget.update('data', insert=USA)"
   ]
  },
  {
   "cell_type": "code",
   "execution_count": null,
   "metadata": {},
   "outputs": [],
   "source": []
  }
 ],
 "metadata": {
  "hide_input": false,
  "kernelspec": {
   "display_name": "Python 3 (ipykernel)",
   "language": "python",
   "name": "python3"
  },
  "language_info": {
   "codemirror_mode": {
    "name": "ipython",
    "version": 3
   },
   "file_extension": ".py",
   "mimetype": "text/x-python",
   "name": "python",
   "nbconvert_exporter": "python",
   "pygments_lexer": "ipython3",
   "version": "3.9.13"
  },
  "latex_envs": {
   "LaTeX_envs_menu_present": true,
   "autoclose": false,
   "autocomplete": true,
   "bibliofile": "biblio.bib",
   "cite_by": "apalike",
   "current_citInitial": 1,
   "eqLabelWithNumbers": true,
   "eqNumInitial": 1,
   "hotkeys": {
    "equation": "Ctrl-E",
    "itemize": "Ctrl-I"
   },
   "labels_anchors": false,
   "latex_user_defs": false,
   "report_style_numbering": false,
   "user_envs_cfg": false
  },
  "toc": {
   "base_numbering": 1,
   "nav_menu": {},
   "number_sections": true,
   "sideBar": true,
   "skip_h1_title": false,
   "title_cell": "Table of Contents",
   "title_sidebar": "Contents",
   "toc_cell": true,
   "toc_position": {},
   "toc_section_display": true,
   "toc_window_display": false
  },
  "widgets": {
   "application/vnd.jupyter.widget-state+json": {
    "state": {
     "05e009a35ec74a8b8c5462fc1f7722f1": {
      "model_module": "jupyter-vega",
      "model_module_version": "^3.6.0",
      "model_name": "VegaWidgetModel",
      "state": {
       "_df": null,
       "_model_module": "jupyter-vega",
       "_model_module_version": "^3.6.0",
       "_opt_source": "null",
       "_spec_source": "{\"$schema\": \"https://vega.github.io/schema/vega-lite/v5.json\", \"description\": \"A vertical box plot showing median and lower and upper quartiles of the distribution of body mass of penguins.\", \"data\": {\"name\": \"data\"}, \"mark\": \"boxplot\", \"encoding\": {\"x\": {\"field\": \"Origin\", \"type\": \"nominal\", \"sort\": \"-y\"}, \"color\": {\"field\": \"Origin\", \"type\": \"nominal\", \"legend\": null}, \"y\": {\"field\": \"Acceleration\", \"type\": \"quantitative\", \"scale\": {\"zero\": false}}}}",
       "_view_module": "jupyter-vega",
       "_view_module_version": "^3.6.0",
       "layout": "IPY_MODEL_66a11a5237214512975033ed313aced5"
      }
     },
     "065b5c81b68d47af84e405ccb5db4498": {
      "model_module": "@jupyter-widgets/base",
      "model_module_version": "1.2.0",
      "model_name": "LayoutModel",
      "state": {}
     },
     "110e29a5d24d4668a6e7332fbd02a3d8": {
      "model_module": "@jupyter-widgets/controls",
      "model_module_version": "1.5.0",
      "model_name": "ButtonModel",
      "state": {
       "description": "Add new data point",
       "layout": "IPY_MODEL_6528b5b0fb2a4664be973dfafefcac95",
       "style": "IPY_MODEL_b77f19a2ab7f43808ef2384043455ca4"
      }
     },
     "115e763e18a240e0a5ae09426eb4c5f9": {
      "model_module": "@jupyter-widgets/base",
      "model_module_version": "1.2.0",
      "model_name": "LayoutModel",
      "state": {}
     },
     "134f1f8ee55b414a80832803af36cb86": {
      "model_module": "@jupyter-widgets/base",
      "model_module_version": "1.2.0",
      "model_name": "LayoutModel",
      "state": {}
     },
     "13a0f9d88a8540f5820b1d3706c81e56": {
      "model_module": "@jupyter-widgets/base",
      "model_module_version": "1.2.0",
      "model_name": "LayoutModel",
      "state": {}
     },
     "14b9167e5f5841d98ba7f726d5ab693b": {
      "model_module": "@jupyter-widgets/base",
      "model_module_version": "1.2.0",
      "model_name": "LayoutModel",
      "state": {}
     },
     "1836463850d749bebcb6bd8370feabf8": {
      "model_module": "@jupyter-widgets/controls",
      "model_module_version": "1.5.0",
      "model_name": "VBoxModel",
      "state": {
       "children": [
        "IPY_MODEL_bde785839d3442b0ad0612896a0fe675",
        "IPY_MODEL_9af0158d21424615b1a488d64360d178",
        "IPY_MODEL_cfe384a6615a4d9b844d9a5733dbbd06"
       ],
       "layout": "IPY_MODEL_391a3f89cd544ecdae4d011e88d03b5d"
      }
     },
     "19e4d759bdc345d2850a13650c4a955b": {
      "model_module": "jupyter-vega",
      "model_module_version": "^3.6.0",
      "model_name": "VegaWidgetModel",
      "state": {
       "_df": null,
       "_model_module": "jupyter-vega",
       "_model_module_version": "^3.6.0",
       "_opt_source": "null",
       "_spec_source": "{\"$schema\": \"https://vega.github.io/schema/vega-lite/v5.json\", \"description\": \"A vertical box plot showing median and lower and upper quartiles of the distribution of body mass of penguins.\", \"data\": {\"name\": \"data\"}, \"mark\": \"boxplot\", \"encoding\": {\"x\": {\"field\": \"Origin\", \"type\": \"nominal\", \"sort\": \"-y\"}, \"color\": {\"field\": \"Origin\", \"type\": \"nominal\", \"legend\": null}, \"y\": {\"field\": \"Acceleration\", \"type\": \"quantitative\", \"scale\": {\"zero\": false}}}}",
       "_view_module": "jupyter-vega",
       "_view_module_version": "^3.6.0",
       "layout": "IPY_MODEL_24bd72f19746471eb5d147361fd9215f"
      }
     },
     "23f4ab2223034523b1d58ab5d25d0a94": {
      "model_module": "@jupyter-widgets/controls",
      "model_module_version": "1.5.0",
      "model_name": "ButtonStyleModel",
      "state": {}
     },
     "24bd72f19746471eb5d147361fd9215f": {
      "model_module": "@jupyter-widgets/base",
      "model_module_version": "1.2.0",
      "model_name": "LayoutModel",
      "state": {}
     },
     "25a0b3e846094e47ad5a92bca1310718": {
      "model_module": "@jupyter-widgets/base",
      "model_module_version": "1.2.0",
      "model_name": "LayoutModel",
      "state": {}
     },
     "2ad2bb84a4a6404e8243772b79ffff46": {
      "model_module": "@jupyter-widgets/base",
      "model_module_version": "1.2.0",
      "model_name": "LayoutModel",
      "state": {}
     },
     "2d54da64ed40493bbea4fba7a1f5e7e1": {
      "model_module": "jupyter-vega",
      "model_module_version": "^3.6.0",
      "model_name": "VegaWidgetModel",
      "state": {
       "_df": null,
       "_model_module": "jupyter-vega",
       "_model_module_version": "^3.6.0",
       "_opt_source": "null",
       "_spec_source": "{\"$schema\": \"https://vega.github.io/schema/vega-lite/v4.json\", \"mark\": \"point\", \"data\": {\"name\": \"data\"}, \"encoding\": {\"x\": {\"type\": \"quantitative\", \"field\": \"x\"}, \"y\": {\"type\": \"quantitative\", \"field\": \"y\"}}}",
       "_view_module": "jupyter-vega",
       "_view_module_version": "^3.6.0",
       "layout": "IPY_MODEL_75de3a7bb3a343959f4f33e6c5f8727f"
      }
     },
     "31f27aa1892640c29e351fddbfa6ba5b": {
      "model_module": "@jupyter-widgets/controls",
      "model_module_version": "1.5.0",
      "model_name": "VBoxModel",
      "state": {
       "children": [
        "IPY_MODEL_e347415012c640109b7e923179dda932",
        "IPY_MODEL_7950835d2d9941b191414f059cd4b01f",
        "IPY_MODEL_110e29a5d24d4668a6e7332fbd02a3d8"
       ],
       "layout": "IPY_MODEL_47e26debba774c78b1ed870b2a6ed5ce"
      }
     },
     "341457161e7a405887f1f3333d53971d": {
      "model_module": "@jupyter-widgets/controls",
      "model_module_version": "1.5.0",
      "model_name": "LabelModel",
      "state": {
       "layout": "IPY_MODEL_ccb97fcff15a46369360cc846ceb0369",
       "style": "IPY_MODEL_9e5077dc975c48de8fb78cfae7483091",
       "value": "Vega plot embedded in another widget"
      }
     },
     "34eb97d28c8a48e18efb063b116a8446": {
      "model_module": "@jupyter-widgets/base",
      "model_module_version": "1.2.0",
      "model_name": "LayoutModel",
      "state": {}
     },
     "36f5b0e7a9104656a9c2010e376f4f01": {
      "model_module": "jupyter-vega",
      "model_module_version": "^3.6.0",
      "model_name": "VegaWidgetModel",
      "state": {
       "_df": null,
       "_model_module": "jupyter-vega",
       "_model_module_version": "^3.6.0",
       "_opt_source": "null",
       "_spec_source": "{\"$schema\": \"https://vega.github.io/schema/vega-lite/v4.json\", \"mark\": \"point\", \"data\": {\"name\": \"data\"}, \"encoding\": {\"x\": {\"type\": \"quantitative\", \"field\": \"x\"}, \"y\": {\"type\": \"quantitative\", \"field\": \"y\"}}}",
       "_view_module": "jupyter-vega",
       "_view_module_version": "^3.6.0",
       "layout": "IPY_MODEL_589ffb5e82fc4795aeb3e1373ee24752"
      }
     },
     "391a3f89cd544ecdae4d011e88d03b5d": {
      "model_module": "@jupyter-widgets/base",
      "model_module_version": "1.2.0",
      "model_name": "LayoutModel",
      "state": {}
     },
     "3b282a00604445518cf29b25046fc056": {
      "model_module": "@jupyter-widgets/controls",
      "model_module_version": "1.5.0",
      "model_name": "VBoxModel",
      "state": {
       "children": [
        "IPY_MODEL_f875f98993774926bf6c566c67c0cbd6",
        "IPY_MODEL_66552360b21e49c791f2d65bdea12625",
        "IPY_MODEL_459fc13993464750884cc3fe8c82ce47"
       ],
       "layout": "IPY_MODEL_42746b6d14e14aab8dd14bb19923b18d"
      }
     },
     "3fefc88825b74cb09ed48097b4618d00": {
      "model_module": "@jupyter-widgets/base",
      "model_module_version": "1.2.0",
      "model_name": "LayoutModel",
      "state": {}
     },
     "42746b6d14e14aab8dd14bb19923b18d": {
      "model_module": "@jupyter-widgets/base",
      "model_module_version": "1.2.0",
      "model_name": "LayoutModel",
      "state": {}
     },
     "43e6fafb616948f1bd2f8cc9c5501f84": {
      "model_module": "@jupyter-widgets/base",
      "model_module_version": "1.2.0",
      "model_name": "LayoutModel",
      "state": {}
     },
     "459fc13993464750884cc3fe8c82ce47": {
      "model_module": "@jupyter-widgets/controls",
      "model_module_version": "1.5.0",
      "model_name": "ButtonModel",
      "state": {
       "description": "Add new data point",
       "layout": "IPY_MODEL_2ad2bb84a4a6404e8243772b79ffff46",
       "style": "IPY_MODEL_49a9abae24184cd39b104f64c219eafb"
      }
     },
     "47e26debba774c78b1ed870b2a6ed5ce": {
      "model_module": "@jupyter-widgets/base",
      "model_module_version": "1.2.0",
      "model_name": "LayoutModel",
      "state": {}
     },
     "49a9abae24184cd39b104f64c219eafb": {
      "model_module": "@jupyter-widgets/controls",
      "model_module_version": "1.5.0",
      "model_name": "ButtonStyleModel",
      "state": {}
     },
     "5376426a865f48a8bb8e88d9c0b2ee3d": {
      "model_module": "jupyter-vega",
      "model_module_version": "^3.6.0",
      "model_name": "VegaWidgetModel",
      "state": {
       "_df": null,
       "_model_module": "jupyter-vega",
       "_model_module_version": "^3.6.0",
       "_opt_source": "null",
       "_spec_source": "{\"$schema\": \"https://vega.github.io/schema/vega-lite/v4.json\", \"mark\": \"point\", \"data\": {\"name\": \"data\"}, \"encoding\": {\"x\": {\"type\": \"quantitative\", \"field\": \"x\"}, \"y\": {\"type\": \"quantitative\", \"field\": \"y\"}}}",
       "_view_module": "jupyter-vega",
       "_view_module_version": "^3.6.0",
       "layout": "IPY_MODEL_13a0f9d88a8540f5820b1d3706c81e56"
      }
     },
     "5528caf11bc541e6ba2f1f4f49e2ea5a": {
      "model_module": "@jupyter-widgets/controls",
      "model_module_version": "1.5.0",
      "model_name": "ButtonStyleModel",
      "state": {}
     },
     "555387f0444448068b2a5a595c8d17b9": {
      "model_module": "@jupyter-widgets/base",
      "model_module_version": "1.2.0",
      "model_name": "LayoutModel",
      "state": {}
     },
     "589ffb5e82fc4795aeb3e1373ee24752": {
      "model_module": "@jupyter-widgets/base",
      "model_module_version": "1.2.0",
      "model_name": "LayoutModel",
      "state": {}
     },
     "5cd8113c79cf4460af4e99c6ed214148": {
      "model_module": "jupyter-vega",
      "model_module_version": "^3.6.0",
      "model_name": "VegaWidgetModel",
      "state": {
       "_df": null,
       "_model_module": "jupyter-vega",
       "_model_module_version": "^3.6.0",
       "_opt_source": "{\"theme\": \"dark\"}",
       "_spec_source": "{\"$schema\": \"https://vega.github.io/schema/vega-lite/v4.json\", \"mark\": \"line\", \"data\": {\"name\": \"data\"}, \"encoding\": {\"x\": {\"type\": \"quantitative\", \"field\": \"x\"}, \"y\": {\"type\": \"quantitative\", \"field\": \"y\"}}}",
       "_view_module": "jupyter-vega",
       "_view_module_version": "^3.6.0",
       "layout": "IPY_MODEL_555387f0444448068b2a5a595c8d17b9"
      }
     },
     "6528b5b0fb2a4664be973dfafefcac95": {
      "model_module": "@jupyter-widgets/base",
      "model_module_version": "1.2.0",
      "model_name": "LayoutModel",
      "state": {}
     },
     "66552360b21e49c791f2d65bdea12625": {
      "model_module": "jupyter-vega",
      "model_module_version": "^3.6.0",
      "model_name": "VegaWidgetModel",
      "state": {
       "_df": null,
       "_model_module": "jupyter-vega",
       "_model_module_version": "^3.6.0",
       "_opt_source": "null",
       "_spec_source": "{\"$schema\": \"https://vega.github.io/schema/vega-lite/v4.json\", \"mark\": \"point\", \"data\": {\"name\": \"data\", \"values\": [{\"x\": -0.14409032957792836, \"y\": -0.1729036003315193, \"t\": 0}, {\"x\": -0.11131586156766246, \"y\": 0.7019837250988631, \"t\": 1}, {\"x\": -0.12758828378288709, \"y\": -1.4973534143409575, \"t\": 2}, {\"x\": 0.33231834406771527, \"y\": -0.2673374784971682, \"t\": 3}, {\"x\": -0.216958684145195, \"y\": 0.11588478670085507, \"t\": 4}]}, \"encoding\": {\"x\": {\"type\": \"quantitative\", \"field\": \"x\"}, \"y\": {\"type\": \"quantitative\", \"field\": \"y\"}}}",
       "_view_module": "jupyter-vega",
       "_view_module_version": "^3.6.0",
       "layout": "IPY_MODEL_3fefc88825b74cb09ed48097b4618d00"
      }
     },
     "66a11a5237214512975033ed313aced5": {
      "model_module": "@jupyter-widgets/base",
      "model_module_version": "1.2.0",
      "model_name": "LayoutModel",
      "state": {}
     },
     "75de3a7bb3a343959f4f33e6c5f8727f": {
      "model_module": "@jupyter-widgets/base",
      "model_module_version": "1.2.0",
      "model_name": "LayoutModel",
      "state": {}
     },
     "7950835d2d9941b191414f059cd4b01f": {
      "model_module": "@jupyter-widgets/base",
      "model_module_version": "1.2.0",
      "model_name": "DOMWidgetModel",
      "state": {
       "_model_name": "DOMWidgetModel",
       "_spec_source": "{\"$schema\": \"https://vega.github.io/schema/vega-lite/v3.json\", \"mark\": \"point\", \"data\": {\"name\": \"data\", \"values\": [{\"x\": -0.08464576847388305, \"y\": -2.292101726714774, \"t\": 0}, {\"x\": 0.21535122626875394, \"y\": -1.3219649666747073, \"t\": 1}, {\"x\": -0.329521137311764, \"y\": -0.27624633585615743, \"t\": 2}, {\"x\": 0.0094549488754799, \"y\": -0.04490340911971162, \"t\": 3}, {\"x\": 1.031494161239078, \"y\": -1.0452928358284574, \"t\": 4}]}, \"encoding\": {\"x\": {\"type\": \"quantitative\", \"field\": \"x\"}, \"y\": {\"type\": \"quantitative\", \"field\": \"y\"}}}",
       "_view_module": "nbextensions/jupyter-vega/index",
       "_view_module_version": "0.1.0",
       "_view_name": "VegaWidget",
       "layout": "IPY_MODEL_43e6fafb616948f1bd2f8cc9c5501f84"
      }
     },
     "8186fe4c715f4af0b1d03003dccf992d": {
      "model_module": "jupyter-vega",
      "model_module_version": "^3.6.0",
      "model_name": "VegaWidgetModel",
      "state": {
       "_df": null,
       "_model_module": "jupyter-vega",
       "_model_module_version": "^3.6.0",
       "_opt_source": "{\"theme\": \"dark\"}",
       "_spec_source": "{\"$schema\": \"https://vega.github.io/schema/vega-lite/v4.json\", \"mark\": \"line\", \"data\": {\"name\": \"data\"}, \"encoding\": {\"x\": {\"type\": \"quantitative\", \"field\": \"x\"}, \"y\": {\"type\": \"quantitative\", \"field\": \"y\"}}}",
       "_view_module": "jupyter-vega",
       "_view_module_version": "^3.6.0",
       "layout": "IPY_MODEL_844cc6cdfa9141dfb4bddf3de56b0bc3"
      }
     },
     "819d7e336e3b4a60bc7245a90d4c2aed": {
      "model_module": "jupyter-vega",
      "model_module_version": "^3.6.0",
      "model_name": "VegaWidgetModel",
      "state": {
       "_df": null,
       "_model_module": "jupyter-vega",
       "_model_module_version": "^3.6.0",
       "_opt_source": "null",
       "_spec_source": "{\"$schema\": \"https://vega.github.io/schema/vega-lite/v4.json\", \"mark\": \"point\", \"data\": {\"name\": \"data\"}, \"encoding\": {\"x\": {\"type\": \"quantitative\", \"field\": \"x\"}, \"y\": {\"type\": \"quantitative\", \"field\": \"y\"}}}",
       "_view_module": "jupyter-vega",
       "_view_module_version": "^3.6.0",
       "layout": "IPY_MODEL_b5cc87a55ee5456e83553127a99ead6f"
      }
     },
     "844cc6cdfa9141dfb4bddf3de56b0bc3": {
      "model_module": "@jupyter-widgets/base",
      "model_module_version": "1.2.0",
      "model_name": "LayoutModel",
      "state": {}
     },
     "8d9e9d2172734e01ab1ebda5ea32b6cc": {
      "model_module": "@jupyter-widgets/controls",
      "model_module_version": "1.5.0",
      "model_name": "DescriptionStyleModel",
      "state": {
       "description_width": ""
      }
     },
     "92c2cbb9c4814b43a365836e78d51fbc": {
      "model_module": "jupyter-vega",
      "model_module_version": "^3.6.0",
      "model_name": "VegaWidgetModel",
      "state": {
       "_df": null,
       "_model_module": "jupyter-vega",
       "_model_module_version": "^3.6.0",
       "_opt_source": "null",
       "_spec_source": "{\"$schema\": \"https://vega.github.io/schema/vega-lite/v4.json\", \"mark\": \"point\", \"data\": {\"name\": \"data\"}, \"encoding\": {\"x\": {\"type\": \"quantitative\", \"field\": \"x\"}, \"y\": {\"type\": \"quantitative\", \"field\": \"y\"}}}",
       "_view_module": "jupyter-vega",
       "_view_module_version": "^3.6.0",
       "layout": "IPY_MODEL_eb277ec221da43ef9862c7b47e170f58"
      }
     },
     "953a6d5858764e67b5e36ae4ca71c02f": {
      "model_module": "@jupyter-widgets/controls",
      "model_module_version": "1.5.0",
      "model_name": "DescriptionStyleModel",
      "state": {
       "description_width": ""
      }
     },
     "9af0158d21424615b1a488d64360d178": {
      "model_module": "jupyter-vega",
      "model_module_version": "^3.6.0",
      "model_name": "VegaWidgetModel",
      "state": {
       "_df": null,
       "_model_module": "jupyter-vega",
       "_model_module_version": "^3.6.0",
       "_opt_source": "null",
       "_spec_source": "{\"$schema\": \"https://vega.github.io/schema/vega-lite/v4.json\", \"mark\": \"point\", \"data\": {\"name\": \"data\", \"values\": [{\"x\": -0.14409032957792836, \"y\": -0.1729036003315193, \"t\": 0}, {\"x\": -0.11131586156766246, \"y\": 0.7019837250988631, \"t\": 1}, {\"x\": -0.12758828378288709, \"y\": -1.4973534143409575, \"t\": 2}, {\"x\": 0.33231834406771527, \"y\": -0.2673374784971682, \"t\": 3}, {\"x\": -0.216958684145195, \"y\": 0.11588478670085507, \"t\": 4}]}, \"encoding\": {\"x\": {\"type\": \"quantitative\", \"field\": \"x\"}, \"y\": {\"type\": \"quantitative\", \"field\": \"y\"}}}",
       "_view_module": "jupyter-vega",
       "_view_module_version": "^3.6.0",
       "layout": "IPY_MODEL_d58bd7fa879d4a6bb6ea9e3ab246d7df"
      }
     },
     "9e5077dc975c48de8fb78cfae7483091": {
      "model_module": "@jupyter-widgets/controls",
      "model_module_version": "1.5.0",
      "model_name": "DescriptionStyleModel",
      "state": {
       "description_width": ""
      }
     },
     "a5929fbde07e4997829ee75d413e056f": {
      "model_module": "jupyter-vega",
      "model_module_version": "^3.6.0",
      "model_name": "VegaWidgetModel",
      "state": {
       "_df": null,
       "_model_module": "jupyter-vega",
       "_model_module_version": "^3.6.0",
       "_opt_source": "null",
       "_spec_source": "{\"$schema\": \"https://vega.github.io/schema/vega-lite/v5.json\", \"description\": \"A vertical box plot showing median and lower and upper quartiles of the distribution of body mass of penguins.\", \"data\": {\"name\": \"data\"}, \"mark\": \"boxplot\", \"encoding\": {\"x\": {\"field\": \"Origin\", \"type\": \"nominal\", \"sort\": \"-y\"}, \"color\": {\"field\": \"Origin\", \"type\": \"nominal\", \"legend\": null}, \"y\": {\"field\": \"Acceleration\", \"type\": \"quantitative\", \"scale\": {\"zero\": false}}}}",
       "_view_module": "jupyter-vega",
       "_view_module_version": "^3.6.0",
       "layout": "IPY_MODEL_14b9167e5f5841d98ba7f726d5ab693b"
      }
     },
     "aca8a70726cd4933886be96e76e0ae30": {
      "model_module": "jupyter-vega",
      "model_module_version": "^3.6.0",
      "model_name": "VegaWidgetModel",
      "state": {
       "_df": null,
       "_model_module": "jupyter-vega",
       "_model_module_version": "^3.6.0",
       "_opt_source": "{\"theme\": \"dark\"}",
       "_spec_source": "{\"$schema\": \"https://vega.github.io/schema/vega-lite/v4.json\", \"mark\": \"line\", \"data\": {\"name\": \"data\"}, \"encoding\": {\"x\": {\"type\": \"quantitative\", \"field\": \"x\"}, \"y\": {\"type\": \"quantitative\", \"field\": \"y\"}}}",
       "_view_module": "jupyter-vega",
       "_view_module_version": "^3.6.0",
       "layout": "IPY_MODEL_134f1f8ee55b414a80832803af36cb86"
      }
     },
     "aef4391a601e49b7ac79db5dbcbead2a": {
      "model_module": "@jupyter-widgets/base",
      "model_module_version": "1.2.0",
      "model_name": "LayoutModel",
      "state": {}
     },
     "afb0d00ed10d460f8aaf1f8866c1b7aa": {
      "model_module": "jupyter-vega",
      "model_module_version": "^3.6.0",
      "model_name": "VegaWidgetModel",
      "state": {
       "_df": null,
       "_model_module": "jupyter-vega",
       "_model_module_version": "^3.6.0",
       "_opt_source": "null",
       "_spec_source": "{\"$schema\": \"https://vega.github.io/schema/vega-lite/v4.json\", \"mark\": \"point\", \"data\": {\"name\": \"data\"}, \"encoding\": {\"x\": {\"type\": \"quantitative\", \"field\": \"x\"}, \"y\": {\"type\": \"quantitative\", \"field\": \"y\"}}}",
       "_view_module": "jupyter-vega",
       "_view_module_version": "^3.6.0",
       "layout": "IPY_MODEL_aef4391a601e49b7ac79db5dbcbead2a"
      }
     },
     "b57d7b9b21254f0489cc1abb6f7fadf6": {
      "model_module": "@jupyter-widgets/controls",
      "model_module_version": "1.5.0",
      "model_name": "ButtonModel",
      "state": {
       "description": "Add new data point",
       "layout": "IPY_MODEL_d4fcc2cdcec447e6b963848b29ce2853",
       "style": "IPY_MODEL_23f4ab2223034523b1d58ab5d25d0a94"
      }
     },
     "b5cc87a55ee5456e83553127a99ead6f": {
      "model_module": "@jupyter-widgets/base",
      "model_module_version": "1.2.0",
      "model_name": "LayoutModel",
      "state": {}
     },
     "b77f19a2ab7f43808ef2384043455ca4": {
      "model_module": "@jupyter-widgets/controls",
      "model_module_version": "1.5.0",
      "model_name": "ButtonStyleModel",
      "state": {}
     },
     "bcbb67c889624c498199285011bd4c54": {
      "model_module": "@jupyter-widgets/base",
      "model_module_version": "1.2.0",
      "model_name": "LayoutModel",
      "state": {}
     },
     "bcc3112a631340939377fe20793aea55": {
      "model_module": "@jupyter-widgets/base",
      "model_module_version": "1.2.0",
      "model_name": "LayoutModel",
      "state": {}
     },
     "bde785839d3442b0ad0612896a0fe675": {
      "model_module": "@jupyter-widgets/controls",
      "model_module_version": "1.5.0",
      "model_name": "LabelModel",
      "state": {
       "layout": "IPY_MODEL_065b5c81b68d47af84e405ccb5db4498",
       "style": "IPY_MODEL_953a6d5858764e67b5e36ae4ca71c02f",
       "value": "Vega plot embedded in another widget"
      }
     },
     "cabc3b528d5c49e2a20c4740fd54c18e": {
      "model_module": "@jupyter-widgets/controls",
      "model_module_version": "1.5.0",
      "model_name": "VBoxModel",
      "state": {
       "children": [
        "IPY_MODEL_341457161e7a405887f1f3333d53971d",
        "IPY_MODEL_e285fba24420444f9f03b102f94e2179",
        "IPY_MODEL_b57d7b9b21254f0489cc1abb6f7fadf6"
       ],
       "layout": "IPY_MODEL_bcc3112a631340939377fe20793aea55"
      }
     },
     "ccb97fcff15a46369360cc846ceb0369": {
      "model_module": "@jupyter-widgets/base",
      "model_module_version": "1.2.0",
      "model_name": "LayoutModel",
      "state": {}
     },
     "cfe384a6615a4d9b844d9a5733dbbd06": {
      "model_module": "@jupyter-widgets/controls",
      "model_module_version": "1.5.0",
      "model_name": "ButtonModel",
      "state": {
       "description": "Add new data point",
       "layout": "IPY_MODEL_34eb97d28c8a48e18efb063b116a8446",
       "style": "IPY_MODEL_5528caf11bc541e6ba2f1f4f49e2ea5a"
      }
     },
     "d4fcc2cdcec447e6b963848b29ce2853": {
      "model_module": "@jupyter-widgets/base",
      "model_module_version": "1.2.0",
      "model_name": "LayoutModel",
      "state": {}
     },
     "d58bd7fa879d4a6bb6ea9e3ab246d7df": {
      "model_module": "@jupyter-widgets/base",
      "model_module_version": "1.2.0",
      "model_name": "LayoutModel",
      "state": {}
     },
     "d6c0ab2005d849dc8aca0e2201ac7abd": {
      "model_module": "@jupyter-widgets/base",
      "model_module_version": "1.2.0",
      "model_name": "DOMWidgetModel",
      "state": {
       "_model_name": "DOMWidgetModel",
       "_spec_source": "{\"$schema\": \"https://vega.github.io/schema/vega-lite/v3.json\", \"mark\": \"point\", \"data\": {\"name\": \"data\", \"values\": []}, \"encoding\": {\"x\": {\"type\": \"quantitative\", \"field\": \"x\"}, \"y\": {\"type\": \"quantitative\", \"field\": \"y\"}}}",
       "_view_module": "nbextensions/jupyter-vega/index",
       "_view_module_version": "0.1.0",
       "_view_name": "VegaWidget",
       "layout": "IPY_MODEL_25a0b3e846094e47ad5a92bca1310718"
      }
     },
     "d98c8303019946e8a1c4418dc1567dfb": {
      "model_module": "@jupyter-widgets/base",
      "model_module_version": "1.2.0",
      "model_name": "LayoutModel",
      "state": {}
     },
     "dd17d59782034c94a27c91b84bd9a63d": {
      "model_module": "jupyter-vega",
      "model_module_version": "^3.6.0",
      "model_name": "VegaWidgetModel",
      "state": {
       "_df": null,
       "_model_module": "jupyter-vega",
       "_model_module_version": "^3.6.0",
       "_opt_source": "null",
       "_spec_source": "{\"$schema\": \"https://vega.github.io/schema/vega-lite/v4.json\", \"mark\": \"point\", \"data\": {\"name\": \"data\"}, \"encoding\": {\"x\": {\"type\": \"quantitative\", \"field\": \"x\"}, \"y\": {\"type\": \"quantitative\", \"field\": \"y\"}}}",
       "_view_module": "jupyter-vega",
       "_view_module_version": "^3.6.0",
       "layout": "IPY_MODEL_e80c90728a49447ca664ca94760b1801"
      }
     },
     "e285fba24420444f9f03b102f94e2179": {
      "model_module": "jupyter-vega",
      "model_module_version": "^3.6.0",
      "model_name": "VegaWidgetModel",
      "state": {
       "_df": null,
       "_model_module": "jupyter-vega",
       "_model_module_version": "^3.6.0",
       "_opt_source": "null",
       "_spec_source": "{\"$schema\": \"https://vega.github.io/schema/vega-lite/v4.json\", \"mark\": \"point\", \"data\": {\"name\": \"data\", \"values\": [{\"x\": -0.14409032957792836, \"y\": -0.1729036003315193, \"t\": 0}, {\"x\": -0.11131586156766246, \"y\": 0.7019837250988631, \"t\": 1}, {\"x\": -0.12758828378288709, \"y\": -1.4973534143409575, \"t\": 2}, {\"x\": 0.33231834406771527, \"y\": -0.2673374784971682, \"t\": 3}, {\"x\": -0.216958684145195, \"y\": 0.11588478670085507, \"t\": 4}]}, \"encoding\": {\"x\": {\"type\": \"quantitative\", \"field\": \"x\"}, \"y\": {\"type\": \"quantitative\", \"field\": \"y\"}}}",
       "_view_module": "jupyter-vega",
       "_view_module_version": "^3.6.0",
       "layout": "IPY_MODEL_bcbb67c889624c498199285011bd4c54"
      }
     },
     "e347415012c640109b7e923179dda932": {
      "model_module": "@jupyter-widgets/controls",
      "model_module_version": "1.5.0",
      "model_name": "LabelModel",
      "state": {
       "layout": "IPY_MODEL_d98c8303019946e8a1c4418dc1567dfb",
       "style": "IPY_MODEL_f172b5db1e6a482981fa8c546b18164f",
       "value": "Vega plot embedded in another widget"
      }
     },
     "e80c90728a49447ca664ca94760b1801": {
      "model_module": "@jupyter-widgets/base",
      "model_module_version": "1.2.0",
      "model_name": "LayoutModel",
      "state": {}
     },
     "eb277ec221da43ef9862c7b47e170f58": {
      "model_module": "@jupyter-widgets/base",
      "model_module_version": "1.2.0",
      "model_name": "LayoutModel",
      "state": {}
     },
     "f172b5db1e6a482981fa8c546b18164f": {
      "model_module": "@jupyter-widgets/controls",
      "model_module_version": "1.5.0",
      "model_name": "DescriptionStyleModel",
      "state": {
       "description_width": ""
      }
     },
     "f875f98993774926bf6c566c67c0cbd6": {
      "model_module": "@jupyter-widgets/controls",
      "model_module_version": "1.5.0",
      "model_name": "LabelModel",
      "state": {
       "layout": "IPY_MODEL_115e763e18a240e0a5ae09426eb4c5f9",
       "style": "IPY_MODEL_8d9e9d2172734e01ab1ebda5ea32b6cc",
       "value": "Vega plot embedded in another widget"
      }
     }
    },
    "version_major": 2,
    "version_minor": 0
   }
  }
 },
 "nbformat": 4,
 "nbformat_minor": 2
}
