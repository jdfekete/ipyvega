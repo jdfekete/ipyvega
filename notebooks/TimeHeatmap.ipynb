{
 "cells": [
  {
   "cell_type": "markdown",
   "id": "2af717a5",
   "metadata": {},
   "source": [
    "# Histogram2D time transfer"
   ]
  },
  {
   "cell_type": "code",
   "execution_count": 75,
   "id": "0c746bae",
   "metadata": {
    "scrolled": true
   },
   "outputs": [
    {
     "data": {
      "application/vnd.jupyter.widget-view+json": {
       "model_id": "e0d81572eb8a41c694a21f0fb0b476e8",
       "version_major": 2,
       "version_minor": 0
      },
      "text/plain": [
       "VegaWidget()"
      ]
     },
     "metadata": {},
     "output_type": "display_data"
    },
    {
     "data": {
      "application/vnd.jupyter.widget-view+json": {
       "model_id": "79723d32ad6340c29ac1e98898791f89",
       "version_major": 2,
       "version_minor": 0
      },
      "text/plain": [
       "Output()"
      ]
     },
     "metadata": {},
     "output_type": "display_data"
    }
   ],
   "source": [
    "import time\n",
    "import numpy as np\n",
    "import asyncio as aio\n",
    "import pandas as pd\n",
    "from vega.widget import VegaWidget\n",
    "import ipywidgets as widgets\n",
    "nbins = 256\n",
    "spec_no_data = {'$schema': 'https://vega.github.io/schema/vega-lite/v4.8.1.json',\n",
    " \"width\": 500,\n",
    " \"height\": 400,\n",
    " 'data': {'name': 'data'},\n",
    " 'encoding': {'color': {'field': 'z', \n",
    "                        'type': 'quantitative',\n",
    "                        # \"scale\": {\n",
    "                        # \"domain\": [0,1]  # Remove if domain changes\n",
    "                        # }\n",
    "                        },\n",
    "  'x': {'field': 'x', 'type': 'ordinal'},\n",
    "  'y': {'field': 'y', 'type': 'ordinal'}},\n",
    " 'mark': 'rect',\n",
    " \"config\": {\n",
    "    \"axis\": {\n",
    "      \"disable\": True  # Change to False to see the ticks\n",
    "    }\n",
    "  }}\n",
    "start = 0\n",
    "desc = \"\"\n",
    "output2 = widgets.Output()\n",
    "def on_value_change(change):\n",
    "    global start, desc\n",
    "    with output2:\n",
    "        received = change['new']\n",
    "        print(desc, received - start)\n",
    "widget = VegaWidget(spec=spec_no_data)\n",
    "widget.observe(on_value_change, names='rec_time')\n",
    "steps = 1\n",
    "display(widget, output2)\n",
    "nsamples=100_000\n",
    "means = [0.1, 0.3]\n",
    "cov = [[0.01, 0], [0, 0.09]]\n",
    "rdata = np.random.multivariate_normal(means, cov, size=(nsamples))\n",
    "h, *_ = np.histogram2d(rdata[:,0],rdata[:,1], bins=nbins, range=((-1.0,1.0),(-1.0,1.0)))\n",
    "hist = h.astype('uint32')\n",
    "vega_data = []\n",
    "for i in range(hist.shape[0]):\n",
    "    for j in range(hist.shape[1]):\n",
    "        vega_data.append(dict(x=i, y=j, z=hist[i,j]))\n",
    "\n",
    "widget._displayed = True"
   ]
  },
  {
   "cell_type": "markdown",
   "id": "87bf59b4",
   "metadata": {},
   "source": [
    "## Update with vega formated data"
   ]
  },
  {
   "cell_type": "code",
   "execution_count": 78,
   "id": "4d540328",
   "metadata": {},
   "outputs": [],
   "source": [
    "start = int(time.time()*1000)\n",
    "desc = \"Transfer time with vega formated data:\"\n",
    "widget.update('data', insert=vega_data, remove=\"true\")"
   ]
  },
  {
   "cell_type": "markdown",
   "id": "67910c3f",
   "metadata": {},
   "source": [
    "## Update with ipytablewidgets"
   ]
  },
  {
   "cell_type": "code",
   "execution_count": 81,
   "id": "68239b3a",
   "metadata": {},
   "outputs": [],
   "source": [
    "start = int(time.time()*1000)\n",
    "desc = \"Transfer time with ipytablewidgets:\"\n",
    "widget.update('data', insert=hist, remove=\"true\")"
   ]
  },
  {
   "cell_type": "markdown",
   "id": "3fa8300b",
   "metadata": {},
   "source": [
    "## Update with ipytablewidgets + LZ4 compression"
   ]
  },
  {
   "cell_type": "code",
   "execution_count": 84,
   "id": "135b3792",
   "metadata": {},
   "outputs": [],
   "source": [
    "start = int(time.time()*1000)\n",
    "desc = \"Transfer time with ipytablewidgets + LZ4:\"\n",
    "widget.compression = \"lz4\"\n",
    "widget.update('data', insert=hist, remove=\"true\")"
   ]
  },
  {
   "cell_type": "markdown",
   "id": "53dabc89",
   "metadata": {},
   "source": [
    "## Update with ipytablewidgets + ZLIB compression"
   ]
  },
  {
   "cell_type": "code",
   "execution_count": 87,
   "id": "09e6caf2",
   "metadata": {},
   "outputs": [],
   "source": [
    "start = int(time.time()*1000)\n",
    "desc = \"Transfer time with ipytablewidgets + ZLIB:\"\n",
    "widget.compression = \"zlib\"\n",
    "widget.update('data', insert=hist, remove=\"true\")"
   ]
  }
 ],
 "metadata": {
  "kernelspec": {
   "display_name": "Python 3",
   "language": "python",
   "name": "python3"
  },
  "language_info": {
   "codemirror_mode": {
    "name": "ipython",
    "version": 3
   },
   "file_extension": ".py",
   "mimetype": "text/x-python",
   "name": "python",
   "nbconvert_exporter": "python",
   "pygments_lexer": "ipython3",
   "version": "3.9.5"
  }
 },
 "nbformat": 4,
 "nbformat_minor": 5
}
