{
 "cells": [
  {
   "cell_type": "markdown",
   "id": "2af717a5",
   "metadata": {},
   "source": [
    "# Histogram2D time transfer"
   ]
  },
  {
   "cell_type": "code",
   "execution_count": 71,
   "id": "0c746bae",
   "metadata": {
    "scrolled": false
   },
   "outputs": [
    {
     "data": {
      "application/vnd.jupyter.widget-view+json": {
       "model_id": "2d7d3210000d40d3abd9475967181198",
       "version_major": 2,
       "version_minor": 0
      },
      "text/plain": [
       "VBox(children=(VegaWidget(), GridBox(children=(Label(value='Format'), Label(value='Vega'), Label(value='Table'…"
      ]
     },
     "metadata": {},
     "output_type": "display_data"
    }
   ],
   "source": [
    "import time\n",
    "import numpy as np\n",
    "import asyncio as aio\n",
    "import pandas as pd\n",
    "from ipytablewidgets import LZ4Compressor\n",
    "from vega.widget import VegaWidget\n",
    "import ipywidgets as widgets\n",
    "nbins = 256\n",
    "spec_no_data = {'$schema': 'https://vega.github.io/schema/vega-lite/v4.8.1.json',\n",
    " \"width\": 500,\n",
    " \"height\": 400,\n",
    " 'data': {'name': 'data'},\n",
    " 'encoding': {'color': {'field': 'z', \n",
    "                        'type': 'quantitative',\n",
    "                        # \"scale\": {\n",
    "                        # \"domain\": [0,1]  # Remove if domain changes\n",
    "                        # }\n",
    "                        },\n",
    "  'x': {'field': 'x', 'type': 'ordinal'},\n",
    "  'y': {'field': 'y', 'type': 'ordinal'}},\n",
    " 'mark': 'rect',\n",
    " \"config\": {\n",
    "    \"axis\": {\n",
    "      \"disable\": True  # Change to False to see the ticks\n",
    "    }\n",
    "  }}\n",
    "start = 0\n",
    "times = []\n",
    "callback_ = None\n",
    "steps = 20\n",
    "cases = ['vega', 'itw', 'lz4', 'zlib']\n",
    "progress_d = {k: widgets.IntProgress(value=0, min=0, \n",
    "                                     max=steps, \n",
    "                                     description='', \n",
    "                                     orientation='horizontal')\n",
    "              for k in cases}\n",
    "mean_d = {k: widgets.Text(value=\"\", description='', disables=True)\n",
    "          for k in cases}\n",
    "        \n",
    "std_d = {k: widgets.Text(value=\"\",  description='', disables=True)\n",
    "         for k in cases}\n",
    "\n",
    "_lab = widgets.Label\n",
    "\n",
    "items = ([_lab('Format'), _lab('Vega'), _lab('Table'), _lab('Table+lz4'), _lab('Table+zlib')] + \n",
    "         [_lab('Progress')]+list(progress_d.values()) + \n",
    "         [_lab('Mean time')]+list(mean_d.values())+\n",
    "         [_lab('Std time')]+list(std_d.values()))\n",
    "grid = widgets.GridBox(items, layout=widgets.Layout(grid_template_columns=\"repeat(5, 100px)\"))\n",
    "progress = None\n",
    "mean = None\n",
    "std = None\n",
    "\n",
    "def clear_():\n",
    "    times.clear()\n",
    "    progress.value = 0\n",
    "    mean.value = ''\n",
    "    std.value = ''\n",
    "\n",
    "def set_col(k):\n",
    "    global progress, mean, std\n",
    "    progress = progress_d[k]\n",
    "    mean = mean_d[k]\n",
    "    std = std_d[k]\n",
    "    if progress is not None:\n",
    "        clear_()\n",
    "    \n",
    "def on_value_change(change):\n",
    "    global start\n",
    "    received = change['new']\n",
    "    v = received - start\n",
    "    times.append(v)\n",
    "    progress.value = len(times)\n",
    "    if callback_ is not None and len(times)<steps:\n",
    "        callback_()\n",
    "    else:\n",
    "        mean.value = f\"{np.mean(times, dtype=int)}ms\"\n",
    "        std.value = f\"{np.std(times, dtype=int)}ms\"   \n",
    "        \n",
    "widget = VegaWidget(spec=spec_no_data)\n",
    "widget.observe(on_value_change, names='rec_time')\n",
    "display(widgets.VBox([widget, grid]))\n",
    "\n",
    "nsamples=100_000\n",
    "means = [0.1, 0.3]\n",
    "cov = [[0.01, 0], [0, 0.09]]\n",
    "rdata = np.random.multivariate_normal(means, cov, size=(nsamples))\n",
    "h, *_ = np.histogram2d(rdata[:,0],rdata[:,1], bins=nbins, range=((-1.0,1.0),(-1.0,1.0)))\n",
    "hist = h.astype('uint32')\n",
    "widget._displayed = True"
   ]
  },
  {
   "cell_type": "markdown",
   "id": "87bf59b4",
   "metadata": {},
   "source": [
    "## Update with vega formated data"
   ]
  },
  {
   "cell_type": "code",
   "execution_count": 72,
   "id": "4d540328",
   "metadata": {},
   "outputs": [],
   "source": [
    "set_col('vega')\n",
    "def vega_fun():\n",
    "    global start\n",
    "    start = int(time.time()*1000)\n",
    "    vega_data = []\n",
    "    for i in range(hist.shape[0]):\n",
    "        for j in range(hist.shape[1]):\n",
    "            vega_data.append(dict(x=i, y=j, z=hist[i,j]))\n",
    "    widget.update('data', insert=vega_data, remove=\"true\")\n",
    "    time.sleep(1)\n",
    "callback_ = vega_fun\n",
    "vega_fun()"
   ]
  },
  {
   "cell_type": "markdown",
   "id": "67910c3f",
   "metadata": {},
   "source": [
    "## Update with ipytablewidgets"
   ]
  },
  {
   "cell_type": "code",
   "execution_count": 73,
   "id": "68239b3a",
   "metadata": {},
   "outputs": [],
   "source": [
    "set_col('itw')\n",
    "widget.compression = None\n",
    "def itw_fun():\n",
    "    global start\n",
    "    start = int(time.time()*1000)\n",
    "    widget.update('data', insert=hist, remove=\"true\")\n",
    "    time.sleep(1)\n",
    "callback_ = itw_fun\n",
    "itw_fun()"
   ]
  },
  {
   "cell_type": "markdown",
   "id": "3fa8300b",
   "metadata": {},
   "source": [
    "## Update with ipytablewidgets + LZ4 compression"
   ]
  },
  {
   "cell_type": "code",
   "execution_count": 75,
   "id": "135b3792",
   "metadata": {},
   "outputs": [],
   "source": [
    "set_col('lz4')\n",
    "start = int(time.time()*1000)\n",
    "widget.compression = \"lz4\"\n",
    "widget.update('data', insert=hist, remove=\"true\")"
   ]
  },
  {
   "cell_type": "markdown",
   "id": "53dabc89",
   "metadata": {},
   "source": [
    "## Update with ipytablewidgets + ZLIB compression"
   ]
  },
  {
   "cell_type": "code",
   "execution_count": 77,
   "id": "09e6caf2",
   "metadata": {},
   "outputs": [],
   "source": [
    "set_col('zlib')\n",
    "start = int(time.time()*1000)\n",
    "widget.compression = \"zlib\"\n",
    "widget.update('data', insert=hist, remove=\"true\")"
   ]
  }
 ],
 "metadata": {
  "kernelspec": {
   "display_name": "Python 3",
   "language": "python",
   "name": "python3"
  },
  "language_info": {
   "codemirror_mode": {
    "name": "ipython",
    "version": 3
   },
   "file_extension": ".py",
   "mimetype": "text/x-python",
   "name": "python",
   "nbconvert_exporter": "python",
   "pygments_lexer": "ipython3",
   "version": "3.9.5"
  }
 },
 "nbformat": 4,
 "nbformat_minor": 5
}
